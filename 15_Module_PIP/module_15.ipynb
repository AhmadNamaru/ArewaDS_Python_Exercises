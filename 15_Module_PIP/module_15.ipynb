{
 "cells": [
  {
   "cell_type": "markdown",
   "metadata": {},
   "source": [
    "# Python Package Manager Exercises:\n",
    "1. Read this url and find the 10 most frequent words. romeo_and_juliet = 'http://www.gutenberg.org/files/1112/1112.txt'"
   ]
  },
  {
   "cell_type": "code",
   "execution_count": null,
   "metadata": {},
   "outputs": [],
   "source": [
    "import requests\n",
    "import re\n",
    "from collections import Counter\n",
    "\n",
    "romeo_and_juliet = 'http://www.gutenberg.org/files/1112/1112.txt'\n",
    "\n",
    "response = requests.get(romeo_and_juliet)\n",
    "text = response.text\n",
    "def find_most_common_words(text_or_file, num_words):\n",
    "    if isinstance(text_or_file, str):\n",
    "        try:\n",
    "            with open(text_or_file, 'r') as file:\n",
    "                text = file.read()\n",
    "        except FileNotFoundError:\n",
    "            text = text_or_file\n",
    "    else:\n",
    "        raise ValueError(\"The first parameter should be a string representing text or a file path.\")\n",
    "    \n",
    "    words = re.findall(r'\\b\\w+\\b', text.lower())\n",
    "    word_counts = Counter(words)\n",
    "    most_common = word_counts.most_common(num_words)\n",
    "    \n",
    "    return most_common\n",
    "\n",
    "romeo_and_juliet_common_words = find_most_common_words(romeo_and_juliet, 10)\n",
    "print(\"Romeo and Juliet:\", romeo_and_juliet_common_words)"
   ]
  },
  {
   "cell_type": "markdown",
   "metadata": {},
   "source": [
    "2. Read the cats API and cats_api = 'https://api.thecatapi.com/v1/breeds' and find :\n",
    "* i. the min, max, mean, median, standard deviation of cats' weight in metric units.\n",
    "* ii. the min, max, mean, median, standard deviation of cats' lifespan in years.\n",
    "* iii. Create a frequency table of country and breed of cats\n"
   ]
  },
  {
   "cell_type": "code",
   "execution_count": null,
   "metadata": {},
   "outputs": [],
   "source": [
    "import requests\n",
    "import pandas as pd\n",
    "\n",
    "cats_api = 'https://api.thecatapi.com/v1/breeds'\n",
    "\n",
    "response = requests.get(cats_api)\n",
    "cats_data = response.json()\n",
    "\n",
    "# Create a DataFrame from the cats data\n",
    "cats_df = pd.DataFrame(cats_data)\n",
    "\n",
    "# Extract weight and lifespan information\n",
    "cats_df['weight_metric'] = cats_df['weight'].apply(lambda x: x['metric'])\n",
    "cats_df['weight_min'] = cats_df['weight_metric'].apply(lambda x: float(x.split(' - ')[0]))\n",
    "cats_df['weight_max'] = cats_df['weight_metric'].apply(lambda x: float(x.split(' - ')[1]))\n",
    "cats_df['lifespan'] = cats_df['life_span'].apply(lambda x: x.split(' - '))\n",
    "cats_df['lifespan_min'] = cats_df['lifespan'].apply(lambda x: float(x[0]))\n",
    "cats_df['lifespan_max'] = cats_df['lifespan'].apply(lambda x: float(x[1]))\n",
    "\n",
    "# Calculate min, max, mean, median, and standard deviation for weight\n",
    "weight_min = cats_df['weight_min'].min()\n",
    "weight_max = cats_df['weight_max'].max()\n",
    "weight_mean = cats_df[['weight_min', 'weight_max']].mean().mean()\n",
    "weight_median = cats_df[['weight_min', 'weight_max']].median().median()\n",
    "weight_std = cats_df[['weight_min', 'weight_max']].std().std()\n",
    "\n",
    "# Calculate min, max, mean, median, and standard deviation for lifespan\n",
    "lifespan_min = cats_df['lifespan_min'].min()\n",
    "lifespan_max = cats_df['lifespan_max'].max()\n",
    "lifespan_mean = cats_df[['lifespan_min', 'lifespan_max']].mean().mean()\n",
    "lifespan_median = cats_df[['lifespan_min', 'lifespan_max']].median().median()\n",
    "lifespan_std = cats_df[['lifespan_min', 'lifespan_max']].std().std()\n",
    "\n",
    "# Create a frequency table of country and breed of cats\n",
    "frequency_table = cats_df.groupby('origin')['name'].count().reset_index().rename(columns={'name': 'breed_count'})\n",
    "\n",
    "print(f\"Weight (metric units) - Min: {weight_min}, Max: {weight_max}, Mean: {weight_mean}, Median: {weight_median}, Std: {weight_std}\")\n",
    "print(f\"Lifespan (years) - Min: {lifespan_min}, Max: {lifespan_max}, Mean: {lifespan_mean}, Median: {lifespan_median}, Std: {lifespan_std}\")\n",
    "print(frequency_table)"
   ]
  },
  {
   "cell_type": "markdown",
   "metadata": {},
   "source": [
    "3. Read the countries API and find\n",
    "* the 10 largest countries\n",
    "* the 10 most spoken languages\n",
    "* the total number of languages in the countries API"
   ]
  },
  {
   "cell_type": "code",
   "execution_count": null,
   "metadata": {},
   "outputs": [],
   "source": [
    "import requests\n",
    "import pandas as pd\n",
    "\n",
    "countries_api = 'https://restcountries.com/v3.1/all'\n",
    "\n",
    "response = requests.get(countries_api)\n",
    "countries_data = response.json()\n",
    "\n",
    "countries_df = pd.DataFrame(countries_data)\n",
    "\n",
    "countries_df['area'] = countries_df['area'].astype(float)\n",
    "countries_df['languages'] = countries_df['languages'].apply(lambda x: list(x.values()) if isinstance(x, dict) else [])\n",
    "\n",
    "# 10 largest countries by area\n",
    "largest_countries = countries_df.nlargest(10, 'area')[['name', 'area']]\n",
    "\n",
    "# 10 most spoken languages\n",
    "all_languages = countries_df['languages'].explode()\n",
    "most_spoken_languages = all_languages.value_counts().nlargest(10)\n",
    "\n",
    "# the total number of languages\n",
    "total_languages = all_languages.nunique()\n",
    "\n",
    "print(\"10 Largest Countries by Area:\")\n",
    "print(largest_countries)\n",
    "\n",
    "print(\"\\n10 Most Spoken Languages:\")\n",
    "print(most_spoken_languages)\n",
    "\n",
    "print(\"\\nTotal Number of Languages:\")\n",
    "print(total_languages)"
   ]
  },
  {
   "cell_type": "markdown",
   "metadata": {},
   "source": [
    "4. UCI is one of the most common places to get data sets for data science and machine learning. Read the content of UCL (https://archive.ics.uci.edu/ml/datasets.php). Without additional libraries it will be difficult, so you may try it with BeautifulSoup4"
   ]
  },
  {
   "cell_type": "code",
   "execution_count": 9,
   "metadata": {},
   "outputs": [],
   "source": [
    "import requests\n",
    "from bs4 import BeautifulSoup\n",
    "\n",
    "uci_url = 'https://archive.ics.uci.edu/ml/datasets.php'\n",
    "\n",
    "response = requests.get(uci_url)\n",
    "soup = BeautifulSoup(response.content, 'html.parser')\n",
    "\n",
    "# Extract dataset names and links\n",
    "datasets = []\n",
    "for dataset in soup.find_all('table', {'border': '1', 'cellpadding': '5'}):\n",
    "    for row in dataset.find_all('tr')[1:]:\n",
    "        columns = row.find_all('td')\n",
    "        if len(columns) > 0:\n",
    "            dataset_name = columns[0].text.strip()\n",
    "            dataset_link = 'https://archive.ics.uci.edu/ml/datasets.php' + columns[0].find('a')['href']\n",
    "            datasets.append((dataset_name, dataset_link))\n",
    "\n",
    "# Print the first 10 datasets\n",
    "for name, link in datasets[:10]:\n",
    "    print(f\"Dataset Name: {name}, Link: {link}\")"
   ]
  }
 ],
 "metadata": {
  "kernelspec": {
   "display_name": "base",
   "language": "python",
   "name": "python3"
  },
  "language_info": {
   "codemirror_mode": {
    "name": "ipython",
    "version": 3
   },
   "file_extension": ".py",
   "mimetype": "text/x-python",
   "name": "python",
   "nbconvert_exporter": "python",
   "pygments_lexer": "ipython3",
   "version": "3.12.7"
  }
 },
 "nbformat": 4,
 "nbformat_minor": 2
}
