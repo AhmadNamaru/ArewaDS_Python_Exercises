{
 "cells": [
  {
   "cell_type": "markdown",
   "metadata": {},
   "source": [
    "# Higher Order Functions Exercises\n",
    ">> countries = ['Estonia', 'Finland', 'Sweden', 'Denmark', 'Norway', 'Iceland']\n",
    "\n",
    ">> names = ['Asabeneh', 'Lidiya', 'Ermias', 'Abraham']\n",
    "\n",
    ">> numbers = [1, 2, 3, 4, 5, 6, 7, 8, 9, 10]\n",
    "#### Exercises: Level 1\n",
    "1. Explain the difference between map, filter, and reduce."
   ]
  },
  {
   "cell_type": "markdown",
   "metadata": {},
   "source": [
    "**Map**: is a built-in function that can be passed as parameter,it  iterates over a list and apply other functions/method and returns a new list seperate from the original list.\n",
    "\n",
    "**Filter:** is a built-in function that returns a boolean value for each item of the specified item. It only filters the items that met the specified criteria.\n",
    "\n",
    "**Reduce:** is a built-in iterable function that is similar to *map* but returns only a single value unlike *map* that returns another value."
   ]
  },
  {
   "cell_type": "markdown",
   "metadata": {},
   "source": [
    "2. Explain the difference between higher order function, closure and decorator"
   ]
  },
  {
   "cell_type": "markdown",
   "metadata": {},
   "source": [
    "**Higher Order Function:** A higher order function is a function that takes one or more functions as arguments, or returns a function as a result. Examples include `map`, `filter`, and `reduce`.\n",
    "\n",
    "**Closure:** A closure is a function object that has access to variables in its lexical scope, even when the function is called outside that scope. Closures are used to create functions with some data already defined.\n",
    "\n",
    "**Decorator:** A decorator is a special type of higher order function that is used to modify the behavior of another function. Decorators are often used to add logging, access control, or other cross-cutting concerns to a function."
   ]
  },
  {
   "cell_type": "markdown",
   "metadata": {},
   "source": [
    "3. Define a call function before map, filter or reduce, see examples."
   ]
  },
  {
   "cell_type": "code",
   "execution_count": null,
   "metadata": {},
   "outputs": [],
   "source": []
  },
  {
   "cell_type": "markdown",
   "metadata": {},
   "source": [
    "4. Use for loop to print each country in the countries list."
   ]
  },
  {
   "cell_type": "code",
   "execution_count": 2,
   "metadata": {},
   "outputs": [],
   "source": [
    "countries = ['Estonia', 'Finland', 'Sweden', 'Denmark', 'Norway', 'Iceland']\n",
    "names = ['Asabeneh', 'Lidiya', 'Ermias', 'Abraham']\n",
    "numbers = [1, 2, 3, 4, 5, 6, 7, 8, 9, 10]"
   ]
  },
  {
   "cell_type": "code",
   "execution_count": null,
   "metadata": {},
   "outputs": [],
   "source": [
    "for i in countries:\n",
    "    print(i)"
   ]
  },
  {
   "cell_type": "markdown",
   "metadata": {},
   "source": [
    "5. Use for to print each name in the names list."
   ]
  },
  {
   "cell_type": "code",
   "execution_count": null,
   "metadata": {},
   "outputs": [],
   "source": [
    "for i in names:\n",
    "    print(i)"
   ]
  },
  {
   "cell_type": "markdown",
   "metadata": {},
   "source": [
    "6. Use for to print each number in the numbers list."
   ]
  },
  {
   "cell_type": "code",
   "execution_count": null,
   "metadata": {},
   "outputs": [],
   "source": [
    "for i in numbers:\n",
    "    print(i)"
   ]
  },
  {
   "cell_type": "markdown",
   "metadata": {},
   "source": [
    "#### Exercises: Level 2\n",
    "1. Use map to create a new list by changing each country to uppercase in the countries list"
   ]
  },
  {
   "cell_type": "code",
   "execution_count": null,
   "metadata": {},
   "outputs": [],
   "source": [
    "def change_to_upper(country):\n",
    "    return country.upper()\n",
    "\n",
    "country_upper_cased = map(change_to_upper, countries)\n",
    "print(list(country_upper_cased))"
   ]
  },
  {
   "cell_type": "markdown",
   "metadata": {},
   "source": [
    "2. Use map to create a new list by changing each number to its square in the numbers list"
   ]
  },
  {
   "cell_type": "code",
   "execution_count": null,
   "metadata": {},
   "outputs": [],
   "source": [
    "def change_to_square(number):\n",
    "    return number**2\n",
    "\n",
    "number_squared = map(change_to_square, numbers)\n",
    "print(list(number_squared))"
   ]
  },
  {
   "cell_type": "markdown",
   "metadata": {},
   "source": [
    "3. Use map to change each name to uppercase in the names list"
   ]
  },
  {
   "cell_type": "code",
   "execution_count": null,
   "metadata": {},
   "outputs": [],
   "source": [
    "def change_to_upper(names):\n",
    "    return names.upper()\n",
    "\n",
    "names_upper_cased = map(change_to_upper, names)\n",
    "print(list(names_upper_cased))"
   ]
  },
  {
   "cell_type": "markdown",
   "metadata": {},
   "source": [
    "4. Use filter to filter out countries containing 'land'"
   ]
  },
  {
   "cell_type": "code",
   "execution_count": null,
   "metadata": {},
   "outputs": [],
   "source": [
    "def has_land(country):\n",
    "    return 'land' in country\n",
    "\n",
    "country_with_land = filter(has_land, countries)\n",
    "print(list(country_with_land))"
   ]
  },
  {
   "cell_type": "markdown",
   "metadata": {},
   "source": [
    "5. Use filter to filter out countries having exactly six characters."
   ]
  },
  {
   "cell_type": "code",
   "execution_count": null,
   "metadata": {},
   "outputs": [],
   "source": [
    "def has_six_xters(xter):\n",
    "    if len(xter) == 6:\n",
    "        return True\n",
    "    return False\n",
    "six_characters = filter(has_six_xters, countries)\n",
    "print(list(six_characters))"
   ]
  },
  {
   "cell_type": "markdown",
   "metadata": {},
   "source": [
    "6. Use filter to filter out countries containing six letters and more in the country list."
   ]
  },
  {
   "cell_type": "code",
   "execution_count": null,
   "metadata": {},
   "outputs": [],
   "source": [
    "def has_six_xters(xter):\n",
    "    if len(xter) >= 6:\n",
    "        return True\n",
    "    return False\n",
    "six_characters = filter(has_six_xters, countries)\n",
    "print(list(six_characters))"
   ]
  },
  {
   "cell_type": "markdown",
   "metadata": {},
   "source": [
    "7. Use filter to filter out countries starting with an 'E'"
   ]
  },
  {
   "cell_type": "code",
   "execution_count": null,
   "metadata": {},
   "outputs": [],
   "source": [
    "def has_letter_e(country):\n",
    "    return 'e' in country\n",
    "letter_e = filter(has_letter_e, countries)\n",
    "print(list(letter_e))"
   ]
  },
  {
   "cell_type": "markdown",
   "metadata": {},
   "source": [
    "8. Chain two or more list iterators (eg. arr.map(callback).filter(callback).reduce(callback))"
   ]
  },
  {
   "cell_type": "code",
   "execution_count": null,
   "metadata": {},
   "outputs": [],
   "source": [
    "from functools import reduce\n",
    "\n",
    "# Define the functions to be used\n",
    "def square(x):\n",
    "    return x ** 2\n",
    "\n",
    "def is_even(x):\n",
    "    return x % 2 == 0\n",
    "\n",
    "def add(x, y):\n",
    "    return x + y\n",
    "\n",
    "# Chain the iterators\n",
    "result = reduce(add, filter(is_even, map(square, numbers)))\n",
    "print(result)"
   ]
  },
  {
   "cell_type": "markdown",
   "metadata": {},
   "source": [
    "9. Declare a function called get_string_lists which takes a list as a parameter and then returns a list containing only string items."
   ]
  },
  {
   "cell_type": "code",
   "execution_count": null,
   "metadata": {},
   "outputs": [],
   "source": [
    "str_only = ['Ahmad','123','Namaru', '2nb', 'Dahiru']\n",
    "def get_string_lists(lists):\n",
    "    return list(map(str, lists))\n",
    "only_strings = filter(get_string_lists, str_only)\n",
    "print(list(only_strings))"
   ]
  },
  {
   "cell_type": "markdown",
   "metadata": {},
   "source": [
    "10. Use reduce to sum all the numbers in the numbers list."
   ]
  },
  {
   "cell_type": "code",
   "execution_count": null,
   "metadata": {},
   "outputs": [],
   "source": [
    "def sum_numbers(x,y):\n",
    "    return x + y\n",
    "\n",
    "total = reduce(sum_numbers, numbers)\n",
    "print(total)   "
   ]
  },
  {
   "cell_type": "markdown",
   "metadata": {},
   "source": [
    "11. Use reduce to concatenate all the countries and to produce this sentence: Estonia, Finland, Sweden, Denmark, Norway, and Iceland are north European countries"
   ]
  },
  {
   "cell_type": "code",
   "execution_count": null,
   "metadata": {},
   "outputs": [],
   "source": [
    "def concat_countries(x,y):\n",
    "    return x+',' + ' ' + y\n",
    "\n",
    "concat = reduce(concat_countries, countries)\n",
    "print(concat)   "
   ]
  },
  {
   "cell_type": "markdown",
   "metadata": {},
   "source": [
    "12. Declare a function called categorize_countries that returns a list of countries with some common pattern (you can find the countries list in this repository as countries.js(eg 'land', 'ia', 'island', 'stan'))."
   ]
  },
  {
   "cell_type": "code",
   "execution_count": null,
   "metadata": {},
   "outputs": [],
   "source": [
    "def categorize_countries(pattern):\n",
    "    return [country for country in countries if pattern in country]\n",
    "\n",
    "pattern = 'land'\n",
    "categorized_countries = categorize_countries(pattern)\n",
    "print(categorized_countries)"
   ]
  },
  {
   "cell_type": "markdown",
   "metadata": {},
   "source": [
    "13. Create a function returning a dictionary, where keys stand for starting letters of countries and values are the number of country names starting with that letter."
   ]
  },
  {
   "cell_type": "code",
   "execution_count": null,
   "metadata": {},
   "outputs": [],
   "source": [
    "def count_countries_by_letter(countries):\n",
    "    country_dict = {}\n",
    "    for country in countries:\n",
    "        first_letter = country[0]\n",
    "        if first_letter in country_dict:\n",
    "            country_dict[first_letter] += 1\n",
    "        else:\n",
    "            country_dict[first_letter] = 1\n",
    "    return country_dict\n",
    "\n",
    "country_count_by_letter = count_countries_by_letter(countries)\n",
    "print(country_count_by_letter)"
   ]
  },
  {
   "cell_type": "markdown",
   "metadata": {},
   "source": [
    "14. Declare a get_first_ten_countries function - it returns a list of first ten countries from the countries.js list in the data folder."
   ]
  },
  {
   "cell_type": "code",
   "execution_count": null,
   "metadata": {},
   "outputs": [],
   "source": [
    "def get_first_ten_countries(countries):\n",
    "    return countries[:10]\n",
    "\n",
    "first_ten_countries = get_first_ten_countries(countries)\n",
    "print(first_ten_countries)"
   ]
  },
  {
   "cell_type": "markdown",
   "metadata": {},
   "source": [
    "15. Declare a get_last_ten_countries function that returns the last ten countries in the countries list."
   ]
  },
  {
   "cell_type": "code",
   "execution_count": null,
   "metadata": {},
   "outputs": [],
   "source": [
    "def get_last_ten_countries(countries):\n",
    "    return countries[-10:]\n",
    "\n",
    "last_ten_countries = get_last_ten_countries(countries)\n",
    "print(last_ten_countries)"
   ]
  },
  {
   "cell_type": "markdown",
   "metadata": {},
   "source": [
    "#### Exercises: Level 3\n",
    "\n",
    "1. Use the countries_data.py (https://github.com/Asabeneh/30-Days-Of-Python/blob/master/data/countries-data.py) file and follow the tasks below:\n",
    "* Sort countries by name, by capital, by population\n",
    "* Sort out the ten most spoken languages by location.\n",
    "* Sort out the ten most populated countries."
   ]
  },
  {
   "cell_type": "code",
   "execution_count": null,
   "metadata": {},
   "outputs": [],
   "source": [
    "import requests\n",
    "from collections import Counter\n",
    "\n",
    "# Load the data from the URL\n",
    "url = 'https://raw.githubusercontent.com/Asabeneh/30-Days-Of-Python/master/data/countries-data.py'\n",
    "response = requests.get(url)\n",
    "data = response.text\n",
    "\n",
    "# Execute the data to get the countries_data variable\n",
    "exec(data)\n",
    "\n",
    "# Sort countries by name\n",
    "sorted_by_name = sorted(countries_data, key=lambda x: x['name'])\n",
    "print(\"Countries sorted by name:\")\n",
    "for country in sorted_by_name:\n",
    "    print(country['name'])\n",
    "\n",
    "# Sort countries by capital\n",
    "sorted_by_capital = sorted(countries_data, key=lambda x: x['capital'])\n",
    "print(\"\\nCountries sorted by capital:\")\n",
    "for country in sorted_by_capital:\n",
    "    print(country['capital'])\n",
    "\n",
    "# Sort countries by population\n",
    "sorted_by_population = sorted(countries_data, key=lambda x: x['population'], reverse=True)\n",
    "print(\"\\nCountries sorted by population:\")\n",
    "for country in sorted_by_population:\n",
    "    print(f\"{country['name']}: {country['population']}\")\n",
    "\n",
    "# Sort out the ten most spoken languages by location\n",
    "\n",
    "languages_counter = Counter()\n",
    "for country in countries_data:\n",
    "    languages_counter.update(country['languages'])\n",
    "\n",
    "most_spoken_languages = languages_counter.most_common(10)\n",
    "print(\"\\nTen most spoken languages by location:\")\n",
    "for language, count in most_spoken_languages:\n",
    "    print(f\"{language}: {count}\")\n",
    "\n",
    "# Sort out the ten most populated countries\n",
    "most_populated_countries = sorted(countries_data, key=lambda x: x['population'], reverse=True)[:10]\n",
    "print(\"\\nTen most populated countries:\")\n",
    "for country in most_populated_countries:\n",
    "    print(f\"{country['name']}: {country['population']}\")"
   ]
  }
 ],
 "metadata": {
  "kernelspec": {
   "display_name": "base",
   "language": "python",
   "name": "python3"
  },
  "language_info": {
   "codemirror_mode": {
    "name": "ipython",
    "version": 3
   },
   "file_extension": ".py",
   "mimetype": "text/x-python",
   "name": "python",
   "nbconvert_exporter": "python",
   "pygments_lexer": "ipython3",
   "version": "3.12.7"
  }
 },
 "nbformat": 4,
 "nbformat_minor": 2
}
