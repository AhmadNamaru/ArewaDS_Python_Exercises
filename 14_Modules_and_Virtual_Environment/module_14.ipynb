{
 "cells": [
  {
   "cell_type": "markdown",
   "metadata": {},
   "source": [
    "# Exercises: Module 14\n",
    "#### Exercises: Level 1\n",
    "1. Write a function which generates a six digit/character random_user_id.\n",
    "  \n",
    "  print(random_user_id());\n",
    "  \n",
    "  '1ee33d'"
   ]
  },
  {
   "cell_type": "code",
   "execution_count": null,
   "metadata": {},
   "outputs": [],
   "source": [
    "import string\n",
    "import random\n",
    "\n",
    "def random_user_id():\n",
    "\tcharacters = string.ascii_lowercase + string.digits\n",
    "\tuser_id = ''.join(random.choice(characters) for i in range(6))\n",
    "\treturn user_id\n",
    "\n",
    "print(random_user_id())"
   ]
  },
  {
   "cell_type": "markdown",
   "metadata": {},
   "source": [
    "2. Modify the previous task. Declare a function named user_id_gen_by_user. It doesn’t take any parameters but it takes two inputs using input(). One of the inputs is the number of characters and the second input is the number of IDs which are supposed to be generated.\n"
   ]
  },
  {
   "cell_type": "code",
   "execution_count": null,
   "metadata": {},
   "outputs": [],
   "source": [
    "import string\n",
    "import random\n",
    "\n",
    "def user_id_gen_by_user():\n",
    "\tnumber_of_xters = int(input('Enter the Number of Characters you want in your User ID: '))\n",
    "\tnumber_of_id = int(input('Enter the Number of ID(s) You Want to Generate: '))\n",
    "\tcharacters = string.ascii_lowercase + string.digits\n",
    "\tuser_ids = [''.join(random.choice(characters) for _ in range(number_of_xters)) for _ in range(number_of_id)]\n",
    "\treturn user_ids\n",
    "\n",
    "print(user_id_gen_by_user())"
   ]
  },
  {
   "cell_type": "markdown",
   "metadata": {},
   "source": [
    "3. Write a function named rgb_color_gen. It will generate rgb colors (3 values ranging from 0 to 255 each).\n",
    "print(rgb_color_gen())\n",
    "* rgb(125,244,255) - the output should be in this form"
   ]
  },
  {
   "cell_type": "code",
   "execution_count": null,
   "metadata": {},
   "outputs": [],
   "source": [
    "import random\n",
    "\n",
    "def rgb_color_gen():\n",
    "    r = random.randint(0, 255)\n",
    "    g = random.randint(0, 255)\n",
    "    b = random.randint(0, 255)\n",
    "    return (r, g, b)\n",
    "\n",
    "print('rgb',rgb_color_gen())"
   ]
  },
  {
   "cell_type": "markdown",
   "metadata": {},
   "source": [
    "#### Exercises: Level 2\n",
    "1. Write a function list_of_hexa_colors which returns any number of hexadecimal colors in an array (six hexadecimal numbers written after #. Hexadecimal numeral system is made out of 16 symbols, 0-9 and first 6 letters of the alphabet, a-f. Check the task 6 for output examples)."
   ]
  },
  {
   "cell_type": "code",
   "execution_count": null,
   "metadata": {},
   "outputs": [],
   "source": [
    "import string\n",
    "\n",
    "def list_of_hex_colors():\n",
    "    hex_colors = ['#' + ''.join(random.choices(string.hexdigits, k=6)) for _ in range(3)]\n",
    "    return hex_colors\n",
    "print(list_of_hex_colors())"
   ]
  },
  {
   "cell_type": "markdown",
   "metadata": {},
   "source": [
    "2. Write a function list_of_rgb_colors which returns any number of RGB colors in an array."
   ]
  },
  {
   "cell_type": "code",
   "execution_count": null,
   "metadata": {},
   "outputs": [],
   "source": [
    "import random\n",
    "\n",
    "def list_of_rgb_colors():\n",
    "    rgb_colors = [f'rgb({random.randint(0, 255)}, {random.randint(0, 255)}, {random.randint(0, 255)})' for _ in range(3)]\n",
    "    return rgb_colors\n",
    "print(list_of_rgb_colors())"
   ]
  },
  {
   "cell_type": "markdown",
   "metadata": {},
   "source": [
    "3. Write a function generate_colors which can generate any number of hexa or rgb colors.\n",
    "   * generate_colors('hexa', 3) # ['#a3e12f','#03ed55','#eb3d2b'] \n",
    "   * generate_colors('hexa', 1) # ['#b334ef']\n",
    "   * generate_colors('rgb', 3)  # ['rgb(5, 55, 175','rgb(50, 105, 100','rgb(15, 26, 80'] \n",
    "   * generate_colors('rgb', 1)  # ['rgb(33,79, 176)']"
   ]
  },
  {
   "cell_type": "code",
   "execution_count": null,
   "metadata": {},
   "outputs": [],
   "source": [
    "def generate_colors(color_type, number):\n",
    "    if color_type == 'hexa':\n",
    "        return ['#' + ''.join(random.choices(string.hexdigits, k=6)) for i in range(number)]\n",
    "    elif color_type == 'rgb':\n",
    "        return [f'rgb({random.randint(0, 255)}, {random.randint(0, 255)}, {random.randint(0, 255)})' for i in range(number)]\n",
    "    else:\n",
    "        return 'Invalid color type'\n",
    "\n",
    "print(generate_colors('hexa', 3))\n",
    "print(generate_colors('hexa', 1))\n",
    "print(generate_colors('rgb', 3))\n",
    "print(generate_colors('rgb', 1))"
   ]
  },
  {
   "cell_type": "markdown",
   "metadata": {},
   "source": [
    "#### Exercises: Level 3\n",
    "1. Call your function shuffle_list, it takes a list as a parameter and it returns a shuffled list"
   ]
  },
  {
   "cell_type": "code",
   "execution_count": null,
   "metadata": {},
   "outputs": [],
   "source": [
    "import random\n",
    "def shuffle_list(shuffle):\n",
    "    shuffled = shuffle[:]\n",
    "    random.shuffle(shuffled)\n",
    "    return shuffled\n",
    "\n",
    "original_list = [1,2,3,4,5]\n",
    "shuffled_list = shuffle_list(original_list)\n",
    "\n",
    "print('Original List: ', original_list)\n",
    "print('Shuffled List: ', shuffled_list)"
   ]
  },
  {
   "cell_type": "markdown",
   "metadata": {},
   "source": [
    "2. Write a function which returns an array of seven random numbers in a range of 0-9. All the numbers must be unique."
   ]
  },
  {
   "cell_type": "code",
   "execution_count": null,
   "metadata": {},
   "outputs": [],
   "source": [
    "import random\n",
    "\n",
    "def unique_random_numbers():\n",
    "    return random.sample(range(10), 7)\n",
    "\n",
    "print(unique_random_numbers())"
   ]
  },
  {
   "cell_type": "markdown",
   "metadata": {},
   "source": [
    "# Virtual Environment Exercises\n",
    "1. Create a project directory with a virtual environment based on the example given above."
   ]
  },
  {
   "cell_type": "code",
   "execution_count": null,
   "metadata": {},
   "outputs": [],
   "source": [
    "(thirtydaysofpython) C:\\Users\\User\\Desktop\\ArewaDS_Python_Exercises\\30daysofpython> deactivate"
   ]
  },
  {
   "cell_type": "markdown",
   "metadata": {},
   "source": [
    "(thirtydaysofpython) C:\\Users\\User\\Desktop\\ArewaDS_Python_Exercises\\30daysofpython> ``deactivate``"
   ]
  }
 ],
 "metadata": {
  "kernelspec": {
   "display_name": "base",
   "language": "python",
   "name": "python3"
  },
  "language_info": {
   "codemirror_mode": {
    "name": "ipython",
    "version": 3
   },
   "file_extension": ".py",
   "mimetype": "text/x-python",
   "name": "python",
   "nbconvert_exporter": "python",
   "pygments_lexer": "ipython3",
   "version": "3.12.7"
  }
 },
 "nbformat": 4,
 "nbformat_minor": 2
}
