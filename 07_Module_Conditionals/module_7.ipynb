{
 "cells": [
  {
   "cell_type": "markdown",
   "metadata": {},
   "source": [
    "# Module 7 Exercies\n",
    "## Conditionals Exercises\n",
    "#### Exercises: Level 1\n"
   ]
  },
  {
   "cell_type": "markdown",
   "metadata": {},
   "source": [
    "1. Get user input using input(“Enter your age: ”). If user is 18 or older, give feedback: You are old enough to drive. If below 18 give feedback to wait for the missing amount of years. Output:"
   ]
  },
  {
   "cell_type": "code",
   "execution_count": null,
   "metadata": {},
   "outputs": [],
   "source": [
    "age = int(input('Enter Your Age:'))\n",
    "wait = 18 - age\n",
    "if age >= 18:\n",
    "    print('You are old enough to drive')\n",
    "else:\n",
    "    print(f'You have to wait for {wait} years before you can drive')"
   ]
  },
  {
   "cell_type": "markdown",
   "metadata": {},
   "source": [
    "2. Compare the values of my_age and your_age using if … else. Who is older (me or you)? Use input(“Enter your age: ”) to get the age as input. You can use a nested condition to print 'year' for 1 year difference in age, 'years' for bigger differences, and a custom text if my_age = your_age. Output:"
   ]
  },
  {
   "cell_type": "code",
   "execution_count": null,
   "metadata": {},
   "outputs": [],
   "source": [
    "my_age = int(input('Enter Your Age:'))\n",
    "your_age = int(input('Enter Your Age:'))\n",
    "difference = my_age-your_age\n",
    "\n",
    "if my_age > your_age:\n",
    "    if difference == 1:\n",
    "        print(f'I am {difference} year older than you')\n",
    "    else:\n",
    "        print(f'I am {difference} years older than you')\n",
    "else:\n",
    "    print(f'We are the same age')\n"
   ]
  },
  {
   "cell_type": "markdown",
   "metadata": {},
   "source": [
    "3. Get two numbers from the user using input prompt. If a is greater than b return a is greater than b, if a is less b return a is smaller than b, else a is equal to b. Output:"
   ]
  },
  {
   "cell_type": "code",
   "execution_count": null,
   "metadata": {},
   "outputs": [],
   "source": [
    "a = int(input('Enter Your A:'))\n",
    "b = int(input('Enter Your B:'))\n",
    "\n",
    "if a>b:\n",
    "    print(f'{a} is Greater than {b}')\n",
    "elif a<b:\n",
    "    print(f'{a} is Less than {b}')\n",
    "else:\n",
    "    print(f'{a} is Equal to {b}')"
   ]
  },
  {
   "cell_type": "markdown",
   "metadata": {},
   "source": [
    "#### Exercises: Level 2\n",
    "\n",
    "1. Write a code which gives grade to students according to theirs scores:"
   ]
  },
  {
   "cell_type": "code",
   "execution_count": null,
   "metadata": {},
   "outputs": [],
   "source": [
    "score = float(input('Enter the Score:'))\n",
    "\n",
    "if score <= 100 and score >=80:\n",
    "    print(f'The Grade for {score} is: A')\n",
    "elif score <=89 and score >=70:\n",
    "    print(f'The Grade for {score} is: B')\n",
    "elif score <=69 and score >=60:\n",
    "    print(f'The Grade for {score} is: C')\n",
    "elif score <=59 and score >=50:\n",
    "    print(f'The Grade for {score} is: D')\n",
    "elif score <=49 and score >=0:\n",
    "    print(f'The Grade for {score} is: F')\n",
    "else:\n",
    "    print(f'{score} is Invalid Score')"
   ]
  },
  {
   "cell_type": "markdown",
   "metadata": {},
   "source": [
    "2. Check if the season is Autumn, Winter, Spring or Summer. If the user input is: September, October or November, the season is Autumn. December, January or February, the season is Winter. March, April or May, the season is Spring June, July or August, the season is Summer"
   ]
  },
  {
   "cell_type": "code",
   "execution_count": null,
   "metadata": {},
   "outputs": [],
   "source": [
    "month = input('Enter A Month:')\n",
    "\n",
    "if month == 'September' or 'October' or 'November':\n",
    "    print(f'The Season for {month} is: Autumn')\n",
    "elif month == 'December' or 'January' or 'February':\n",
    "    print(f'The Season for {month} is: Winter')\n",
    "elif month == 'March' or 'April' or 'May':\n",
    "    print(f'The Season for {month} is: Spring')\n",
    "elif month == 'June' or 'July' or 'August':\n",
    "    print(f'The Season for {month} is: Summer')\n",
    "else:\n",
    "    print(f'{score} is Invalid Month')"
   ]
  },
  {
   "cell_type": "markdown",
   "metadata": {},
   "source": [
    "3. The following list contains some fruits:\n",
    "\n",
    "```sh\n",
    "fruits = ['banana', 'orange', 'mango', 'lemon']\n",
    "```\n",
    "\n",
    "If a fruit doesn't exist in the list add the fruit to the list and print the modified list. If the fruit exists print('That fruit already exist in the list')\n"
   ]
  },
  {
   "cell_type": "code",
   "execution_count": null,
   "metadata": {},
   "outputs": [],
   "source": [
    "frt = input('Enter A Fruit:')\n",
    "fruits = ['banana', 'orange', 'mango', 'lemon']\n",
    "\n",
    "if frt in fruits:\n",
    "    print(f'{frt} already exist in the list')\n",
    "else:\n",
    "    fruits.append(frt)\n",
    "    print(fruits)\n"
   ]
  },
  {
   "cell_type": "markdown",
   "metadata": {},
   "source": [
    "#### Exercises: Level 3\n",
    "\n",
    " * Check if the person dictionary has skills key, if so print out the middle skill in the skills list.\n",
    " * Check if the person dictionary has skills key, if so check if the person has 'Python' skill and print out the result.\n",
    " * If a person skills has only JavaScript and React, print('He is a front end developer'), if the person skills has Node, Python, MongoDB, print('He is a backend developer'), if the person skills has React, Node and MongoDB, Print('He is a fullstack developer'), else print('unknown title') - for more accurate results more conditions can be nested!\n",
    " * If the person is married and if he lives in Finland, print the information in the following format:\n",
    " >   ```Asabeneh Yetayeh lives in Finland. He is married.```"
   ]
  },
  {
   "cell_type": "code",
   "execution_count": 29,
   "metadata": {},
   "outputs": [],
   "source": [
    "person={\n",
    "    'first_name': 'Ahmad',\n",
    "    'last_name': 'Namaru',\n",
    "    'age': 27,\n",
    "    'country': 'Nigeria',\n",
    "    'is_marred': False,\n",
    "    'skills': ['Python', 'HTML', 'Excel', 'PHP', 'SQL'],\n",
    "    'address': {\n",
    "        'street': 'Palace Road Maru',\n",
    "        'zipcode': '02210'\n",
    "    }\n",
    "    }"
   ]
  },
  {
   "cell_type": "code",
   "execution_count": null,
   "metadata": {},
   "outputs": [],
   "source": [
    "if 'skills' in person:\n",
    "    print(person['skills'][2])"
   ]
  },
  {
   "cell_type": "code",
   "execution_count": null,
   "metadata": {},
   "outputs": [],
   "source": [
    "if 'skills' in person:\n",
    "    if 'Python' in person['skills']:\n",
    "        print(person['skills'][0])"
   ]
  },
  {
   "cell_type": "markdown",
   "metadata": {},
   "source": [
    "* If a person skills has only JavaScript and React, print('He is a front end developer'), if the person skills has Node, Python, MongoDB, print('He is a backend developer'), if the person skills has React, Node and MongoDB, Print('He is a fullstack developer'), else print('unknown title') - for more accurate results more conditions can be nested!"
   ]
  },
  {
   "cell_type": "code",
   "execution_count": null,
   "metadata": {},
   "outputs": [],
   "source": [
    "if person['skills'] == 'Python' and 'Excel':\n",
    "    print('He is Data Analyst')\n",
    "elif person['skills'] == 'HTML' and 'PHP':\n",
    "    print('He is Front End Developer')\n",
    "elif person['skills'] == 'SQL':\n",
    "    print('He is Backend Developer')\n",
    "else:\n",
    "    print('Unknown Title')"
   ]
  },
  {
   "cell_type": "code",
   "execution_count": null,
   "metadata": {},
   "outputs": [],
   "source": [
    "skills = input('Enter Your Skill 1:')\n",
    "skills = input('Enter Your Skill 2:')\n",
    "if skills == 'Python' or 'Excel':\n",
    "    print('He is Data Analyst')\n",
    "elif skills == 'HTML' and 'PHP':\n",
    "    print('He is Front End Developer')\n",
    "elif skills == 'SQL':\n",
    "    print('He is Backend Developer')\n",
    "else:\n",
    "    print('Unknown Title')"
   ]
  },
  {
   "cell_type": "markdown",
   "metadata": {},
   "source": [
    " * If the person is married and if he lives in Finland, print the information in the following format:\n",
    " >   ```Asabeneh Yetayeh lives in Finland. He is married.```"
   ]
  },
  {
   "cell_type": "code",
   "execution_count": null,
   "metadata": {},
   "outputs": [],
   "source": [
    "if person['is_marred'] == False:\n",
    "    if person['country'] == 'Nigeria':\n",
    "        print(f'{person['first_name']} {person['last_name']} lives in {person['country']} and He is Not Married')"
   ]
  }
 ],
 "metadata": {
  "kernelspec": {
   "display_name": "base",
   "language": "python",
   "name": "python3"
  },
  "language_info": {
   "codemirror_mode": {
    "name": "ipython",
    "version": 3
   },
   "file_extension": ".py",
   "mimetype": "text/x-python",
   "name": "python",
   "nbconvert_exporter": "python",
   "pygments_lexer": "ipython3",
   "version": "3.12.7"
  }
 },
 "nbformat": 4,
 "nbformat_minor": 2
}
