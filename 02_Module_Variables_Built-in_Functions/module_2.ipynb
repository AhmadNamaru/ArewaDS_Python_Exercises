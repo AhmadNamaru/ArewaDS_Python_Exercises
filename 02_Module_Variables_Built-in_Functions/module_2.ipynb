{
 "cells": [
  {
   "cell_type": "markdown",
   "metadata": {},
   "source": [
    "# Module 2 Exercises\n",
    "\n",
    "#### Exercises Level 1"
   ]
  },
  {
   "cell_type": "markdown",
   "metadata": {},
   "source": [
    "\n",
    "1. Inside 30DaysOfPython create a folder called day_2. Inside this folder create a file named variables.py\n",
    "2. Write a python comment saying 'Day 2: 30 Days of python programming'\n",
    "3. Declare a first name variable and assign a value to it\n",
    "4. Declare a last name variable and assign a value to it\n",
    "5. Declare a full name variable and assign a value to it\n",
    "6. Declare a country variable and assign a value to it\n",
    "7. Declare a city variable and assign a value to it\n",
    "8. Declare an age variable and assign a value to it\n",
    "9. Declare a year variable and assign a value to it\n",
    "10. Declare a variable is_married and assign a value to it\n",
    "11. Declare a variable is_true and assign a value to it\n",
    "12. Declare a variable is_light_on and assign a value to it\n",
    "13. Declare multiple variable on one line"
   ]
  },
  {
   "cell_type": "code",
   "execution_count": null,
   "metadata": {},
   "outputs": [],
   "source": [
    "# Day 2: 30 Days of python programming\n",
    "\n",
    "first_name = 'Ahmad'\n",
    "last_name = 'Dahiru Namaru'\n",
    "full_name = 'Ahmad Dahiru Namaru'\n",
    "country = 'Nigeria'\n",
    "city = 'Maru'\n",
    "age = 27\n",
    "year = 2024\n",
    "is_married = False\n",
    "is_true = True \n",
    "is_light_on = False\n",
    "state, lga, town = 'zamfara', 'maru', 'maru'"
   ]
  },
  {
   "cell_type": "markdown",
   "metadata": {},
   "source": [
    "---"
   ]
  },
  {
   "cell_type": "markdown",
   "metadata": {},
   "source": [
    "#### Excercises Level 2\n",
    "1. Check the data type of all your variables using type() built-in function "
   ]
  },
  {
   "cell_type": "code",
   "execution_count": null,
   "metadata": {},
   "outputs": [],
   "source": [
    "# Checking Data Type of All Variables Declared\n",
    "\n",
    "print(type(first_name))\n",
    "print(type(last_name))\n",
    "print(type(full_name))\n",
    "print(type(country))\n",
    "print(type(city))\n",
    "print(type(age))\n",
    "print(type(year))\n",
    "print(type(is_married))\n",
    "print(type(is_light_on))\n",
    "print(type(is_true))\n",
    "print(type(state))"
   ]
  },
  {
   "cell_type": "markdown",
   "metadata": {},
   "source": [
    "2. Using the len() built-in function, find the length of your first name"
   ]
  },
  {
   "cell_type": "code",
   "execution_count": null,
   "metadata": {},
   "outputs": [],
   "source": [
    "print(len(first_name))"
   ]
  },
  {
   "cell_type": "markdown",
   "metadata": {},
   "source": [
    "3. Compare the length of your first name and your last name"
   ]
  },
  {
   "cell_type": "code",
   "execution_count": null,
   "metadata": {},
   "outputs": [],
   "source": [
    "print('The Length of first name is:',len(first_name),'\\n' 'While the length of last name is:', len(last_name))"
   ]
  },
  {
   "cell_type": "markdown",
   "metadata": {},
   "source": [
    "4. Declare 5 as num_one and 4 as num_two\n",
    "5. Add num_one and num_two and assign the value to a variable total\n",
    "6. Subtract num_two from num_one and assign the value to a variable diff\n",
    "7. Multiply num_two and num_one and assign the value to a variable product\n",
    "8. Divide num_one by num_two and assign the value to a variable division\n",
    "9. Use modulus division to find num_two divided by num_one and assign the value to a variable remainder\n",
    "10. Calculate num_one to the power of num_two and assign the value to a variable exp\n",
    "11. Find floor division of num_one by num_two and assign the value to a variable floor_division"
   ]
  },
  {
   "cell_type": "code",
   "execution_count": null,
   "metadata": {},
   "outputs": [],
   "source": [
    "num_one = 5\n",
    "num_two = 4\n",
    "\n",
    "total = (num_one + num_two)\n",
    "print('The Sum of 5 and 4 is:', total)\n",
    "\n",
    "diff = (num_one - num_two)\n",
    "print('The Diff between 5 and 4 is:', diff)\n",
    "\n",
    "product = (num_two * num_one)\n",
    "print('The Product of 5 and 4 is:', product)\n",
    "\n",
    "division = (num_one / num_two)\n",
    "print('The Value After Division of 5 and 4 is:', division)\n",
    "\n",
    "remainder = (num_two % num_one)\n",
    "print('The Modulus of 5 and 4 is:', remainder)\n",
    "\n",
    "exp = (num_one ** num_two)\n",
    "print('The Exponential Value of 5 and 4 is:', exp)\n",
    "\n",
    "floor_division = (num_one // num_two)\n",
    "print('The Value After Floor Division of 5 and 4 is:', floor_division)"
   ]
  },
  {
   "cell_type": "markdown",
   "metadata": {},
   "source": [
    "12. The radius of a circle is 30 meters.\n",
    "    \n",
    "    i. Calculate the area of a circle and assign the value to a variable name of area_of_circle\n",
    "\n",
    "    ii. Calculate the circumference of a circle and assign the value to a variable name of circum_of_circle\n",
    "    \n",
    "    iii. Take radius as user input and calculate the area."
   ]
  },
  {
   "cell_type": "code",
   "execution_count": null,
   "metadata": {},
   "outputs": [],
   "source": [
    "radius = 30\n",
    "\n",
    "area_of_circle = (3.142 * (30 ** 2))\n",
    "print('The Area of the Cirle is:', area_of_circle)\n",
    "\n",
    "circum_of_circle = (2 * 3.142 * 30)\n",
    "print('The Circumference of the Circle is:', circum_of_circle)"
   ]
  },
  {
   "cell_type": "code",
   "execution_count": null,
   "metadata": {},
   "outputs": [],
   "source": [
    "radius_2 = int(input('Enter The Radius of the Circle: '))\n",
    "area = (3.142 * (radius_2**2))\n",
    "\n",
    "print('The Area of the Cirle is:' ,area)"
   ]
  },
  {
   "cell_type": "markdown",
   "metadata": {},
   "source": [
    "13. Use the built-in input function to get first name, last name, country and age from a user and store the value to their corresponding variable names"
   ]
  },
  {
   "cell_type": "code",
   "execution_count": null,
   "metadata": {},
   "outputs": [],
   "source": [
    "firstname = input('Enter Your First Name: ')\n",
    "lastname = input('Enter Your Last Name: ')\n",
    "nationality = input(\"Are You Nigerian?: \")\n",
    "age_2 = input('What is Your Age?: ')\n",
    "\n",
    "print(firstname)\n",
    "print(lastname)\n",
    "print(nationality)\n",
    "print(age_2)"
   ]
  },
  {
   "cell_type": "markdown",
   "metadata": {},
   "source": [
    "14. Run help('keywords') in Python shell or in your file to check for the Python reserved words or keywords"
   ]
  },
  {
   "cell_type": "code",
   "execution_count": null,
   "metadata": {},
   "outputs": [],
   "source": [
    "help('keywords')"
   ]
  }
 ],
 "metadata": {
  "kernelspec": {
   "display_name": "base",
   "language": "python",
   "name": "python3"
  },
  "language_info": {
   "codemirror_mode": {
    "name": "ipython",
    "version": 3
   },
   "file_extension": ".py",
   "mimetype": "text/x-python",
   "name": "python",
   "nbconvert_exporter": "python",
   "pygments_lexer": "ipython3",
   "version": "3.12.7"
  }
 },
 "nbformat": 4,
 "nbformat_minor": 2
}
