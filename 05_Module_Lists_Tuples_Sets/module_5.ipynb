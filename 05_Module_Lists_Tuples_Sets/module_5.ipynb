{
 "cells": [
  {
   "cell_type": "markdown",
   "metadata": {},
   "source": [
    "# Module 5 Exercies\n",
    "## List Exercises\n",
    "#### Exercises: Level 1\n"
   ]
  },
  {
   "cell_type": "markdown",
   "metadata": {},
   "source": [
    "1. Declare an empty list"
   ]
  },
  {
   "cell_type": "code",
   "execution_count": 2,
   "metadata": {},
   "outputs": [],
   "source": [
    "my_list = list()        # Using List Method\n",
    "my_list = []            # Using Square Brackets"
   ]
  },
  {
   "cell_type": "markdown",
   "metadata": {},
   "source": [
    "2. Declare a list with more than 5 items"
   ]
  },
  {
   "cell_type": "code",
   "execution_count": null,
   "metadata": {},
   "outputs": [],
   "source": [
    "my_list = ['Banaga','Sule','Model','Primary','School','Maru']\n",
    "print(my_list)"
   ]
  },
  {
   "cell_type": "markdown",
   "metadata": {},
   "source": [
    "3. Find the length of your list"
   ]
  },
  {
   "cell_type": "code",
   "execution_count": null,
   "metadata": {},
   "outputs": [],
   "source": [
    "print('The Length of My List is: ',len(my_list))"
   ]
  },
  {
   "cell_type": "markdown",
   "metadata": {},
   "source": [
    "4. Get the first item, the middle item and the last item of the list"
   ]
  },
  {
   "cell_type": "code",
   "execution_count": null,
   "metadata": {},
   "outputs": [],
   "source": [
    "print('First Item of the List is:',my_list[0])\n",
    "print('Middle Item of the List is:',my_list[3])\n",
    "print('Last Item of the List is:',my_list[-1])"
   ]
  },
  {
   "cell_type": "markdown",
   "metadata": {},
   "source": [
    "5. Declare a list called mixed_data_types, put your(name, age, height, marital status, address)"
   ]
  },
  {
   "cell_type": "code",
   "execution_count": null,
   "metadata": {},
   "outputs": [],
   "source": [
    "mixed_data_types = ['Ahmad Namaru',27,1.78,'Single','Makarantar Boko Area']\n",
    "print(mixed_data_types)"
   ]
  },
  {
   "cell_type": "markdown",
   "metadata": {},
   "source": [
    "6. Declare a list variable named it_companies and assign initial values Facebook, Google, Microsoft, Apple, IBM, Oracle and Amazon.\n",
    "7. Print the list using print()"
   ]
  },
  {
   "cell_type": "code",
   "execution_count": null,
   "metadata": {},
   "outputs": [],
   "source": [
    "it_companies= ['Facebook', 'Google', 'Microsoft', 'Apple', 'IBM', 'Oracle', 'Amazon']\n",
    "print(it_companies)"
   ]
  },
  {
   "cell_type": "markdown",
   "metadata": {},
   "source": [
    "8. Print the number of companies in the list"
   ]
  },
  {
   "cell_type": "code",
   "execution_count": null,
   "metadata": {},
   "outputs": [],
   "source": [
    "print(len(it_companies))"
   ]
  },
  {
   "cell_type": "markdown",
   "metadata": {},
   "source": [
    "9. Print the first, middle and last company"
   ]
  },
  {
   "cell_type": "code",
   "execution_count": null,
   "metadata": {},
   "outputs": [],
   "source": [
    "print('The First Company in the list is: ',it_companies[0])\n",
    "print('The Middle Company in the list is: ',it_companies[3])\n",
    "print('The Last Company in the list is: ',it_companies[-1])"
   ]
  },
  {
   "cell_type": "markdown",
   "metadata": {},
   "source": [
    "10. Print the list after modifying one of the companies"
   ]
  },
  {
   "cell_type": "code",
   "execution_count": null,
   "metadata": {},
   "outputs": [],
   "source": [
    "it_companies[1] = 'Namaru'\n",
    "print('After Modification, the New List is: ',it_companies)"
   ]
  },
  {
   "cell_type": "markdown",
   "metadata": {},
   "source": [
    "11. Add an IT company to it_companies"
   ]
  },
  {
   "cell_type": "code",
   "execution_count": null,
   "metadata": {},
   "outputs": [],
   "source": [
    "# Using Append Method\n",
    "\n",
    "it_companies.append('IT')\n",
    "print(it_companies)"
   ]
  },
  {
   "cell_type": "markdown",
   "metadata": {},
   "source": [
    "12. Insert an IT company in the middle of the companies list"
   ]
  },
  {
   "cell_type": "code",
   "execution_count": null,
   "metadata": {},
   "outputs": [],
   "source": [
    "# Inserting 'IT' in the middle of the List\n",
    "\n",
    "it_companies.insert(1,'IT')\n",
    "print(it_companies)"
   ]
  },
  {
   "cell_type": "markdown",
   "metadata": {},
   "source": [
    "13. Change one of the it_companies names to uppercase (IBM excluded!)"
   ]
  },
  {
   "cell_type": "code",
   "execution_count": null,
   "metadata": {},
   "outputs": [],
   "source": [
    "# Changing 'Facebook' to uppercase\n",
    "\n",
    "it_companies[0] = 'FACEBOOK'\n",
    "print(it_companies)"
   ]
  },
  {
   "cell_type": "markdown",
   "metadata": {},
   "source": [
    "14. Join the it_companies with a string '#;  '"
   ]
  },
  {
   "cell_type": "code",
   "execution_count": null,
   "metadata": {},
   "outputs": [],
   "source": [
    "joining = '#;'\n",
    "it_companies.extend(joining)\n",
    "print(it_companies)"
   ]
  },
  {
   "cell_type": "markdown",
   "metadata": {},
   "source": [
    "15. Check if a certain company exists in the it_companies list."
   ]
  },
  {
   "cell_type": "code",
   "execution_count": null,
   "metadata": {},
   "outputs": [],
   "source": [
    "# Checking if \"Namaru\" is in the List\n",
    "print('Is \"Namaru\" in the List?: ', 'Namaru' in it_companies)"
   ]
  },
  {
   "cell_type": "markdown",
   "metadata": {},
   "source": [
    "16. Sort the list using sort() method"
   ]
  },
  {
   "cell_type": "code",
   "execution_count": null,
   "metadata": {},
   "outputs": [],
   "source": [
    "it_companies.sort()\n",
    "print(it_companies) # Sorted in Ascending Order"
   ]
  },
  {
   "cell_type": "markdown",
   "metadata": {},
   "source": [
    "17. Reverse the list in descending order using reverse() method"
   ]
  },
  {
   "cell_type": "code",
   "execution_count": null,
   "metadata": {},
   "outputs": [],
   "source": [
    "it_companies.sort(reverse=True)\n",
    "\n",
    "print(it_companies) # Sorted in Descending Order"
   ]
  },
  {
   "cell_type": "markdown",
   "metadata": {},
   "source": [
    "18. Slice out the first 3 companies from the list"
   ]
  },
  {
   "cell_type": "code",
   "execution_count": null,
   "metadata": {},
   "outputs": [],
   "source": [
    "print('The First Three Items in the List are: ',it_companies[0:3])"
   ]
  },
  {
   "cell_type": "markdown",
   "metadata": {},
   "source": [
    "19. Slice out the last 3 companies from the list"
   ]
  },
  {
   "cell_type": "code",
   "execution_count": null,
   "metadata": {},
   "outputs": [],
   "source": [
    "print('The Last Three Items in the List are: ',it_companies[-3::])"
   ]
  },
  {
   "cell_type": "markdown",
   "metadata": {},
   "source": [
    "20. Slice out the middle IT company or companies from the list"
   ]
  },
  {
   "cell_type": "code",
   "execution_count": null,
   "metadata": {},
   "outputs": [],
   "source": [
    "print('The Middle Item(s) in the List is: ',it_companies[5])"
   ]
  },
  {
   "cell_type": "markdown",
   "metadata": {},
   "source": [
    "21. Remove the first IT company from the list"
   ]
  },
  {
   "cell_type": "code",
   "execution_count": null,
   "metadata": {},
   "outputs": [],
   "source": [
    "it_companies.pop(0)\n",
    "print(it_companies)"
   ]
  },
  {
   "cell_type": "markdown",
   "metadata": {},
   "source": [
    "22. Remove the middle IT company or companies from the list"
   ]
  },
  {
   "cell_type": "code",
   "execution_count": null,
   "metadata": {},
   "outputs": [],
   "source": [
    "del it_companies[4:6]\n",
    "print(it_companies)"
   ]
  },
  {
   "cell_type": "markdown",
   "metadata": {},
   "source": [
    "23. Remove the last IT company from the list"
   ]
  },
  {
   "cell_type": "code",
   "execution_count": null,
   "metadata": {},
   "outputs": [],
   "source": [
    "it_companies.pop()\n",
    "print(it_companies)"
   ]
  },
  {
   "cell_type": "markdown",
   "metadata": {},
   "source": [
    "24. Remove all IT companies from the list"
   ]
  },
  {
   "cell_type": "code",
   "execution_count": null,
   "metadata": {},
   "outputs": [],
   "source": [
    "it_companies.clear()\n",
    "print(it_companies)"
   ]
  },
  {
   "cell_type": "markdown",
   "metadata": {},
   "source": [
    "25. Destroy the IT companies list"
   ]
  },
  {
   "cell_type": "code",
   "execution_count": null,
   "metadata": {},
   "outputs": [],
   "source": [
    "del it_companies\n",
    "print(it_companies)     # It will print an error message because it was deleted before the print "
   ]
  },
  {
   "cell_type": "markdown",
   "metadata": {},
   "source": [
    "26. Join the following lists:\n",
    "\n",
    "front_end = ['HTML', 'CSS', 'JS', 'React', 'Redux']\n",
    "\n",
    "back_end = ['Node','Express', 'MongoDB']"
   ]
  },
  {
   "cell_type": "code",
   "execution_count": null,
   "metadata": {},
   "outputs": [],
   "source": [
    "front_end = ['HTML', 'CSS', 'JS', 'React', 'Redux']\n",
    "back_end = ['Node','Express', 'MongoDB']\n",
    "\n",
    "#Using the Plus (+) Operator to Join\n",
    "print(front_end + back_end)\n",
    "\n",
    "# Using Extend() Method\n",
    "front_end.extend(back_end)\n",
    "print(front_end)"
   ]
  },
  {
   "cell_type": "markdown",
   "metadata": {},
   "source": [
    "27. After joining the lists in question 26. Copy the joined list and assign it to a variable full_stack, then insert Python and SQL after Redux."
   ]
  },
  {
   "cell_type": "code",
   "execution_count": null,
   "metadata": {},
   "outputs": [],
   "source": [
    "full_stack = front_end.copy()\n",
    "full_stack.insert(5,'Python')\n",
    "full_stack.insert(6,'SQL')\n",
    "print(full_stack)"
   ]
  },
  {
   "cell_type": "markdown",
   "metadata": {},
   "source": [
    "#### Exercises: Level 2\n",
    "1. The following is a list of 10 students ages:\n",
    "\n",
    ">>> ages = [19, 22, 19, 24, 20, 25, 26, 24, 25, 24]\n",
    "* Sort the list and find the min and max age\n",
    "* Add the min age and the max age again to the list\n",
    "* Find the median age (one middle item or two middle items divided by two)\n",
    "* Find the average age (sum of all items divided by their number )\n",
    "* Find the range of the ages (max minus min)\n",
    "* Compare the value of (min - average) and (max - average), use abs() method"
   ]
  },
  {
   "cell_type": "code",
   "execution_count": null,
   "metadata": {},
   "outputs": [],
   "source": [
    "ages = [19, 22, 19, 24, 20, 25, 26, 24, 25, 24]\n",
    "\n",
    "ages.sort()\n",
    "print(ages)             # Sorted List\n",
    "\n",
    "minimum = min(ages)     # Minimum Value\n",
    "maximum = max(ages)     # Maximum Value\n",
    "print('The Minimum Age is: ', minimum)\n",
    "print('The Maximum Age is: ', maximum)\n",
    "\n",
    "ages.append(minimum)    # Adding Minimum to the List Again!\n",
    "ages.append(maximum)    # Adding Maximun to the List Again!\n",
    "ages.sort()\n",
    "print(ages)\n",
    "\n",
    "median  = (ages[5]+ages[6])/2\n",
    "print('The Median is:', median)\n",
    "\n",
    "average  = (ages[0]+ages[1]+ages[2]+ages[3]+ages[4]+ages[5]+ages[6]+ages[7]+ages[8]+ages[9]+ages[10]+ages[-1])/12\n",
    "print('The Average is:',average)\n",
    "\n",
    "range = maximum-minimum\n",
    "print('The Age range is:',range)\n",
    "\n",
    "compare = abs(ages)\n",
    "print(compare)\n"
   ]
  },
  {
   "cell_type": "markdown",
   "metadata": {},
   "source": [
    "## Tuple Exercises\n",
    "#### Tuple Exercises: Level 1\n"
   ]
  },
  {
   "cell_type": "markdown",
   "metadata": {},
   "source": [
    "1. Create an empty tuple"
   ]
  },
  {
   "cell_type": "code",
   "execution_count": null,
   "metadata": {},
   "outputs": [],
   "source": [
    "tpl = tuple()"
   ]
  },
  {
   "cell_type": "markdown",
   "metadata": {},
   "source": [
    "2. Create a tuple containing names of your sisters and your brothers (imaginary siblings are fine)"
   ]
  },
  {
   "cell_type": "code",
   "execution_count": null,
   "metadata": {},
   "outputs": [],
   "source": [
    "sisters = ('Fatima','Safiya','Hafsat')\n",
    "brothers = ('Usman','Aliyu','Sani')\n",
    "\n",
    "print(sisters)\n",
    "print(brothers)"
   ]
  },
  {
   "cell_type": "markdown",
   "metadata": {},
   "source": [
    "3. Join brothers and sisters tuples and assign it to siblings"
   ]
  },
  {
   "cell_type": "code",
   "execution_count": null,
   "metadata": {},
   "outputs": [],
   "source": [
    "siblings = brothers + sisters\n",
    "print(siblings)"
   ]
  },
  {
   "cell_type": "markdown",
   "metadata": {},
   "source": [
    "4. How many siblings do you have?"
   ]
  },
  {
   "cell_type": "code",
   "execution_count": null,
   "metadata": {},
   "outputs": [],
   "source": [
    "print(len(siblings))"
   ]
  },
  {
   "cell_type": "markdown",
   "metadata": {},
   "source": [
    "5. Modify the siblings tuple and add the name of your father and mother and assign it to family_members"
   ]
  },
  {
   "cell_type": "code",
   "execution_count": null,
   "metadata": {},
   "outputs": [],
   "source": [
    "family_members = list(siblings)\n",
    "print(family_members)\n",
    "\n",
    "family_members.append('Father')\n",
    "family_members.append('Mother')\n",
    "print(family_members)\n",
    "\n",
    "family_members_1 = tuple(family_members)\n",
    "print(family_members_1)"
   ]
  },
  {
   "cell_type": "markdown",
   "metadata": {},
   "source": [
    "#### Tuple Exercises: Level 2\n",
    "\n",
    "1. Unpack siblings and parents from family_members"
   ]
  },
  {
   "cell_type": "code",
   "execution_count": null,
   "metadata": {},
   "outputs": [],
   "source": [
    "siblings1,siblings2, siblings3, siblings4, siblings5, siblings6, *parents = family_members\n",
    "print(parents)"
   ]
  },
  {
   "cell_type": "markdown",
   "metadata": {},
   "source": [
    "2. Create fruits, vegetables and animal products tuples. Join the three tuples and assign it to a variable called food_stuff_tp."
   ]
  },
  {
   "cell_type": "code",
   "execution_count": null,
   "metadata": {},
   "outputs": [],
   "source": [
    "fruits = ('Mango','Banana','Apple')\n",
    "vegetables = ('Tomato','Pepper','Cabbage')\n",
    "animal_products = ('Milk','Egg','Meat')\n",
    "\n",
    "food_stuff_tp = fruits+vegetables+animal_products\n",
    "print(food_stuff_tp)"
   ]
  },
  {
   "cell_type": "markdown",
   "metadata": {},
   "source": [
    "3. Change the about food_stuff_tp tuple to a food_stuff_lt list"
   ]
  },
  {
   "cell_type": "code",
   "execution_count": null,
   "metadata": {},
   "outputs": [],
   "source": [
    "food_stuff_lt = list(food_stuff_tp)\n",
    "print(food_stuff_lt)"
   ]
  },
  {
   "cell_type": "markdown",
   "metadata": {},
   "source": [
    "4. Slice out the middle item or items from the food_stuff_tp tuple or food_stuff_lt list."
   ]
  },
  {
   "cell_type": "code",
   "execution_count": null,
   "metadata": {},
   "outputs": [],
   "source": [
    "middle = food_stuff_lt[4]\n",
    "print(f'The Middle Item in The List/Tuple is: {middle}')"
   ]
  },
  {
   "cell_type": "markdown",
   "metadata": {},
   "source": [
    "5. Slice out the first three items and the last three items from food_staff_lt list"
   ]
  },
  {
   "cell_type": "code",
   "execution_count": null,
   "metadata": {},
   "outputs": [],
   "source": [
    "first_three = food_stuff_lt[:3]\n",
    "print(f'The First Three Items Are: {first_three}')\n",
    "\n",
    "last_three = food_stuff_lt[-3:]\n",
    "print(f'The Last Three Items Are: {last_three}')"
   ]
  },
  {
   "cell_type": "markdown",
   "metadata": {},
   "source": [
    "6. Delete the food_staff_tp tuple completely"
   ]
  },
  {
   "cell_type": "code",
   "execution_count": null,
   "metadata": {},
   "outputs": [],
   "source": [
    "del food_stuff_tp"
   ]
  },
  {
   "cell_type": "markdown",
   "metadata": {},
   "source": [
    "7. Check if an item exists in tuple:\n",
    "* Check if 'Estonia' is a nordic country\n",
    "\n",
    "* Check if 'Iceland' is a nordic country\n",
    "\n",
    "```nordic_countries = ('Denmark', 'Finland','Iceland', 'Norway', 'Sweden')```"
   ]
  },
  {
   "cell_type": "code",
   "execution_count": null,
   "metadata": {},
   "outputs": [],
   "source": [
    "nordic_countries = ('Denmark', 'Finland','Iceland', 'Norway', 'Sweden')\n",
    "\n",
    "print('Estonia' in nordic_countries)\n",
    "print('Iceland' in nordic_countries)"
   ]
  },
  {
   "cell_type": "markdown",
   "metadata": {},
   "source": [
    "## Set Exercises\n",
    "#### Set Exercises: Level 1\n"
   ]
  },
  {
   "cell_type": "code",
   "execution_count": 68,
   "metadata": {},
   "outputs": [],
   "source": [
    "# sets\n",
    "it_companies = {'Facebook', 'Google', 'Microsoft', 'Apple', 'IBM', 'Oracle', 'Amazon'}\n",
    "A = {19, 22, 24, 20, 25, 26}\n",
    "B = {19, 22, 20, 25, 26, 24, 28, 27}\n",
    "age = [22, 19, 24, 25, 26, 24, 25, 24]"
   ]
  },
  {
   "cell_type": "markdown",
   "metadata": {},
   "source": [
    "1. Find the length of the set it_companies"
   ]
  },
  {
   "cell_type": "code",
   "execution_count": null,
   "metadata": {},
   "outputs": [],
   "source": [
    "print('The Length of the it_companies set is: ', len(it_companies))"
   ]
  },
  {
   "cell_type": "markdown",
   "metadata": {},
   "source": [
    "2. Add 'Twitter' to it_companies"
   ]
  },
  {
   "cell_type": "code",
   "execution_count": null,
   "metadata": {},
   "outputs": [],
   "source": [
    "it_companies.add('Twitter')\n",
    "print(it_companies)"
   ]
  },
  {
   "cell_type": "markdown",
   "metadata": {},
   "source": [
    "3. Insert multiple IT companies at once to the set it_companies"
   ]
  },
  {
   "cell_type": "code",
   "execution_count": null,
   "metadata": {},
   "outputs": [],
   "source": [
    "it_companies.update(['Meta', 'Alphabet', 'Adobe'])\n",
    "print(it_companies)"
   ]
  },
  {
   "cell_type": "markdown",
   "metadata": {},
   "source": [
    "4. Remove one of the companies from the set it_companies"
   ]
  },
  {
   "cell_type": "code",
   "execution_count": null,
   "metadata": {},
   "outputs": [],
   "source": [
    "it_companies.remove('Amazon')\n",
    "print(it_companies)"
   ]
  },
  {
   "cell_type": "markdown",
   "metadata": {},
   "source": [
    "5. What is the difference between remove and discard"
   ]
  },
  {
   "cell_type": "markdown",
   "metadata": {},
   "source": [
    "The difference between `remove()` and `discard()` is:\n",
    "\n",
    "remove() method raises an error if the item is not found while discard() method does not raise any error message\n",
    "\n",
    "Example:"
   ]
  },
  {
   "cell_type": "code",
   "execution_count": null,
   "metadata": {},
   "outputs": [],
   "source": [
    "# it_companies.remove('Ahmad')            # Using Remove Method\n",
    "it_companies.discard('Ahmad')           # Using Discard Method"
   ]
  },
  {
   "cell_type": "markdown",
   "metadata": {},
   "source": [
    "#### Sets Exercises: Level 2\n",
    "\n",
    "* A = {19, 22, 24, 20, 25, 26}\n",
    "* B = {19, 22, 20, 25, 26, 24, 28, 27}\n",
    "1. Join A and B"
   ]
  },
  {
   "cell_type": "code",
   "execution_count": null,
   "metadata": {},
   "outputs": [],
   "source": [
    "# Using union() method\n",
    "A.union(B)\n",
    "\n",
    "# Using update() method\n",
    "A.update(B)\n",
    "print(A)"
   ]
  },
  {
   "cell_type": "markdown",
   "metadata": {},
   "source": [
    "2. Find A intersection B"
   ]
  },
  {
   "cell_type": "code",
   "execution_count": null,
   "metadata": {},
   "outputs": [],
   "source": [
    "A.intersection(B)"
   ]
  },
  {
   "cell_type": "markdown",
   "metadata": {},
   "source": [
    "3. Is A subset of B"
   ]
  },
  {
   "cell_type": "code",
   "execution_count": null,
   "metadata": {},
   "outputs": [],
   "source": [
    "A.issubset(B)"
   ]
  },
  {
   "cell_type": "markdown",
   "metadata": {},
   "source": [
    "4. Are A and B disjoint sets"
   ]
  },
  {
   "cell_type": "code",
   "execution_count": null,
   "metadata": {},
   "outputs": [],
   "source": [
    "A.isdisjoint(B)"
   ]
  },
  {
   "cell_type": "markdown",
   "metadata": {},
   "source": [
    "5. Join A with B and B with A"
   ]
  },
  {
   "cell_type": "code",
   "execution_count": null,
   "metadata": {},
   "outputs": [],
   "source": [
    "# Joining Set A with B\n",
    "print(A.union(B))\n",
    "\n",
    "# joining Set B with A\n",
    "print(B.union(A))"
   ]
  },
  {
   "cell_type": "markdown",
   "metadata": {},
   "source": [
    "6. What is the symmetric difference between A and B"
   ]
  },
  {
   "cell_type": "code",
   "execution_count": null,
   "metadata": {},
   "outputs": [],
   "source": [
    "A.symmetric_difference(B)"
   ]
  },
  {
   "cell_type": "markdown",
   "metadata": {},
   "source": [
    "7. Delete the sets completely"
   ]
  },
  {
   "cell_type": "code",
   "execution_count": 74,
   "metadata": {},
   "outputs": [],
   "source": [
    "del A\n",
    "del B"
   ]
  },
  {
   "cell_type": "markdown",
   "metadata": {},
   "source": [
    "#### Sets Exercises: Level 3\n",
    "\n",
    "1. Convert the ages to a set and compare the length of the list and the set, which one is bigger?"
   ]
  },
  {
   "cell_type": "code",
   "execution_count": 75,
   "metadata": {},
   "outputs": [],
   "source": [
    "age = [22, 19, 24, 25, 26, 24, 25, 24]"
   ]
  },
  {
   "cell_type": "code",
   "execution_count": null,
   "metadata": {},
   "outputs": [],
   "source": [
    "list1 = set(age)\n",
    "print(list1)\n",
    "\n",
    "# Finding the Length of each\n",
    "\n",
    "print('The Length of Age List is: ',len(age))\n",
    "print('The Length of Age Set is: ',len(list1))"
   ]
  },
  {
   "cell_type": "markdown",
   "metadata": {},
   "source": [
    "2. Explain the difference between the following data types: string, list, tuple and set"
   ]
  },
  {
   "cell_type": "markdown",
   "metadata": {},
   "source": [
    "1. **String:** is a set characters which consist Alphabets and Numbers in a Quote\n",
    "2. **List:** is a collection of items which are ordered and changeable\n",
    "3. **Tuple:** is a collection of items which are ordered and unchangeable\n",
    "4. **Set:** is a collection of items which are unordered, un-indexed and unchangeable"
   ]
  },
  {
   "cell_type": "markdown",
   "metadata": {},
   "source": [
    "3. I am a teacher and I love to inspire and teach people. How many unique words have been used in the sentence? Use the split methods and set to get the unique words."
   ]
  },
  {
   "cell_type": "code",
   "execution_count": null,
   "metadata": {},
   "outputs": [],
   "source": [
    "unique = 'I am a teacher and I love to inspire and teach people'\n",
    "\n",
    "unique1 = unique.split(' ')\n",
    "print(unique1)\n",
    "\n",
    "unique2 = set(unique1)\n",
    "print(unique2)\n",
    "print('The Number of Unique Words in the Sentence are: ', len(unique2))"
   ]
  }
 ],
 "metadata": {
  "kernelspec": {
   "display_name": "base",
   "language": "python",
   "name": "python3"
  },
  "language_info": {
   "codemirror_mode": {
    "name": "ipython",
    "version": 3
   },
   "file_extension": ".py",
   "mimetype": "text/x-python",
   "name": "python",
   "nbconvert_exporter": "python",
   "pygments_lexer": "ipython3",
   "version": "3.12.7"
  }
 },
 "nbformat": 4,
 "nbformat_minor": 2
}
