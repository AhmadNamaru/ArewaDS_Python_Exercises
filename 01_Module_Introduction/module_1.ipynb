{
 "cells": [
  {
   "cell_type": "markdown",
   "metadata": {},
   "source": [
    "# Exercise Level 1\n",
    "\n",
    "1. Check the python version you are using<br></br>\n",
    "``python --version``\n",
    "\n",
    "2. Open the python interactive shell and do the following operations. The operands are 3 and 4.\n",
    "- ``Print(3+4)``    addition(+)\n",
    "- ``Print(3-4)``    subtraction(-)\n",
    "- ``Print(3*4)``    multiplication(*)\n",
    "- ``Print(3%4)``    modulus(%)\n",
    "- ``Print(3/4)``    division(/)\n",
    "- ``Print(3**4)``   exponential(**)\n",
    "- ``Print(3//4)``    floor division operator(//)<br></br>\n",
    "\n",
    "3. Write strings on the python interactive shell. The strings are the following:\n",
    "* ``Print(\"Ahmad Dahiru Namaru\")``      Your name\n",
    "* ``Print(\"Namaru\")``                   Your family name\n",
    "* ``Print(\"Nigeria\")``                  Your country\n",
    "* ``Print(\"I am enjoying 30 days of python\")``  <br></br>\n",
    "\n",
    "4. Check the data types of the following data:\n",
    "- Print(type(10))  `Int`\n",
    "- Print(type(9.8))  `Float`\n",
    "- Print(type(3.14))`Float`\n",
    "- Print(type(4 - 4j))`Complex`\n",
    "- Print(type(['Asabeneh', 'Python', 'Finland']))`List`\n",
    "- Print(type(\"Ahmad Dahiru Namru\"))`str`\n",
    "- Print(type(\"Namaru\"))`str`\n",
    "- Print(type(\"Nigeria\"))`str`"
   ]
  },
  {
   "cell_type": "markdown",
   "metadata": {},
   "source": [
    "# Exercise Level 2"
   ]
  },
  {
   "cell_type": "markdown",
   "metadata": {},
   "source": [
    "1. Check the python version you are using"
   ]
  },
  {
   "cell_type": "code",
   "execution_count": null,
   "metadata": {},
   "outputs": [],
   "source": [
    "python --version"
   ]
  },
  {
   "cell_type": "markdown",
   "metadata": {},
   "source": [
    "2. Open the python interactive shell and do the following operations. The operands are 3 and 4.\n",
    "* addition(+)"
   ]
  },
  {
   "cell_type": "code",
   "execution_count": null,
   "metadata": {},
   "outputs": [],
   "source": [
    "print(3+4)"
   ]
  },
  {
   "cell_type": "markdown",
   "metadata": {},
   "source": [
    "* subtraction(-)\n"
   ]
  },
  {
   "cell_type": "code",
   "execution_count": null,
   "metadata": {},
   "outputs": [],
   "source": [
    "print(3-4)"
   ]
  },
  {
   "cell_type": "markdown",
   "metadata": {},
   "source": [
    "* multiplication(*)"
   ]
  },
  {
   "cell_type": "code",
   "execution_count": null,
   "metadata": {},
   "outputs": [],
   "source": [
    "print(3*4)"
   ]
  },
  {
   "cell_type": "markdown",
   "metadata": {},
   "source": [
    "* modulus(%)"
   ]
  },
  {
   "cell_type": "code",
   "execution_count": null,
   "metadata": {},
   "outputs": [],
   "source": [
    "print(3%4)"
   ]
  },
  {
   "cell_type": "markdown",
   "metadata": {},
   "source": [
    "* division(/)"
   ]
  },
  {
   "cell_type": "code",
   "execution_count": null,
   "metadata": {},
   "outputs": [],
   "source": [
    "print (3/4)"
   ]
  },
  {
   "cell_type": "markdown",
   "metadata": {},
   "source": [
    "* exponential(**)"
   ]
  },
  {
   "cell_type": "code",
   "execution_count": null,
   "metadata": {},
   "outputs": [],
   "source": [
    "print(3**4)"
   ]
  },
  {
   "cell_type": "markdown",
   "metadata": {},
   "source": [
    "* floor division operator(//)"
   ]
  },
  {
   "cell_type": "code",
   "execution_count": null,
   "metadata": {},
   "outputs": [],
   "source": [
    "print (3//4)"
   ]
  },
  {
   "cell_type": "markdown",
   "metadata": {},
   "source": [
    "3. Write strings on the python interactive shell. The strings are the following:\n",
    "* Your name\n",
    "* Your family name\n",
    "* Your country\n",
    "* I am enjoying 30 days of python"
   ]
  },
  {
   "cell_type": "code",
   "execution_count": null,
   "metadata": {},
   "outputs": [],
   "source": [
    "name = \"Ahmad Dahiru Namaru\"\n",
    "family_name = \"Namaru\"\n",
    "country = \"Nigeria\"\n",
    "print(\"My Name is: \", name)\n",
    "print(\"My Family Name is: \", family_name)\n",
    "print(\"My Country is: \", country)\n",
    "print(\"I am enjoying 30 days of python\")"
   ]
  },
  {
   "cell_type": "markdown",
   "metadata": {},
   "source": [
    "4. Check the data types of the following data:\n",
    "- 10\n",
    "- 9.8\n",
    "- 3.14\n",
    "- 4 - 4j\n",
    "- ['Asabeneh', 'Python', 'Finland']\n",
    "- Your name\n",
    "- Your family name\n",
    "- Your country"
   ]
  },
  {
   "cell_type": "code",
   "execution_count": null,
   "metadata": {},
   "outputs": [],
   "source": [
    "# Checking Data Types\n",
    "print(type(10))\n",
    "print(type(9.8))\n",
    "print(type(3.14))\n",
    "print(type(4 - 4j))\n",
    "print(type(['Asabeneh', 'Python', 'Finland']))\n",
    "print(type(name))\n",
    "print(type(family_name))\n",
    "print(type(country))"
   ]
  },
  {
   "cell_type": "markdown",
   "metadata": {},
   "source": [
    "# Exercise Level 3\n",
    "\n",
    "1. Write an example for different Python data types such as Number(Integer, Float, Complex), String, Boolean, List, Tuple, Set and Dictionary."
   ]
  },
  {
   "cell_type": "markdown",
   "metadata": {},
   "source": [
    "#### Examples of Numbers"
   ]
  },
  {
   "cell_type": "code",
   "execution_count": null,
   "metadata": {},
   "outputs": [],
   "source": [
    "print(234*123)                      # Integer\n",
    "print(6.012 - 4.23)                 # Float\n",
    "print(3i - 2)                       # Complex"
   ]
  },
  {
   "cell_type": "markdown",
   "metadata": {},
   "source": [
    "#### Examples of Strings"
   ]
  },
  {
   "cell_type": "code",
   "execution_count": null,
   "metadata": {},
   "outputs": [],
   "source": [
    "a= \"Ahmad\"\n",
    "b = 'Dahiru'"
   ]
  },
  {
   "cell_type": "code",
   "execution_count": null,
   "metadata": {},
   "outputs": [],
   "source": [
    "print(\"Hello World\")\n",
    "print(\"This is Arewa DS Fellowship Exercise\")"
   ]
  },
  {
   "cell_type": "markdown",
   "metadata": {},
   "source": [
    "#### Examples of Boolean"
   ]
  },
  {
   "cell_type": "code",
   "execution_count": null,
   "metadata": {},
   "outputs": [],
   "source": [
    "is_ligth_available = True\n",
    "are_you_cohort3_fellow = True\n",
    "do_you_smoke = False"
   ]
  },
  {
   "cell_type": "markdown",
   "metadata": {},
   "source": [
    "#### Examples of List"
   ]
  },
  {
   "cell_type": "code",
   "execution_count": null,
   "metadata": {},
   "outputs": [],
   "source": [
    "names = [\"Ahmad\",\"Dahiru\",\"Namaru\"]\n",
    "numbers = [\"25\",'36','48']\n",
    "countries = ['Nigeria','Ghana','Togo']\n",
    "\n",
    "print(names)\n",
    "print(numbers)\n",
    "print(countries)\n"
   ]
  },
  {
   "cell_type": "markdown",
   "metadata": {},
   "source": [
    "#### Examples of Tuples"
   ]
  },
  {
   "cell_type": "code",
   "execution_count": null,
   "metadata": {},
   "outputs": [],
   "source": [
    "g=('maru','gusau','bungudu')\n",
    "h=('1.2','6.8','9.2')\n",
    "print(g)\n",
    "print(h)"
   ]
  },
  {
   "cell_type": "markdown",
   "metadata": {},
   "source": [
    "#### Examples of Set"
   ]
  },
  {
   "cell_type": "code",
   "execution_count": null,
   "metadata": {},
   "outputs": [],
   "source": [
    "m={6, 5, 8, 2}\n",
    "n={1.23, 4.56, 7.89} \n",
    "print(m)\n",
    "print(n)"
   ]
  },
  {
   "cell_type": "markdown",
   "metadata": {},
   "source": [
    "#### Examples of Dictionary"
   ]
  },
  {
   "cell_type": "code",
   "execution_count": null,
   "metadata": {},
   "outputs": [],
   "source": [
    "p = {\n",
    "'preferred_name':'namaru','age':'20','state':'zamfara','is_married':False,}\n",
    "\n",
    "print(p)"
   ]
  },
  {
   "cell_type": "markdown",
   "metadata": {},
   "source": [
    "2. Find an Euclidian distance between (2, 3) and (10, 8)"
   ]
  },
  {
   "cell_type": "code",
   "execution_count": null,
   "metadata": {},
   "outputs": [],
   "source": [
    "import math\n",
    "point_1 = (2,3)\n",
    "point_2 = (10,8)\n",
    "\n",
    "distance = math.sqrt ((point_1[0]-point_2[0])**2 + (point_1[1]-point_2[1])**2)\n",
    "\n",
    "print(\"The Euclidian Distance Between point 1 and point 2 is: \", distance)"
   ]
  },
  {
   "cell_type": "code",
   "execution_count": null,
   "metadata": {},
   "outputs": [],
   "source": [
    "\n",
    "distance = math.sqrt ((2-10)**2 + (3-8)**2)\n",
    "\n",
    "print(\"The Euclidian Distance Between point 1 and point 2 is: \", distance)"
   ]
  }
 ],
 "metadata": {
  "kernelspec": {
   "display_name": "base",
   "language": "python",
   "name": "python3"
  },
  "language_info": {
   "codemirror_mode": {
    "name": "ipython",
    "version": 3
   },
   "file_extension": ".py",
   "mimetype": "text/x-python",
   "name": "python",
   "nbconvert_exporter": "python",
   "pygments_lexer": "ipython3",
   "version": "3.12.7"
  }
 },
 "nbformat": 4,
 "nbformat_minor": 2
}
