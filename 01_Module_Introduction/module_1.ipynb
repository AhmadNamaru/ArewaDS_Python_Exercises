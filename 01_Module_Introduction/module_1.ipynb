{
 "cells": [
  {
   "cell_type": "markdown",
   "metadata": {},
   "source": [
    " Exercise Level 1\n",
    "\n",
    "1. Check the python version you are using<br></br>\n",
    "``python --version``\n",
    "\n",
    "2. Open the python interactive shell and do the following operations. The operands are 3 and 4.\n",
    "- ``Print(3+4)``    addition(+)\n",
    "- ``Print(3-4)``    subtraction(-)\n",
    "- ``Print(3*4)``    multiplication(*)\n",
    "- ``Print(3%4)``    modulus(%)\n",
    "- ``Print(3/4)``    division(/)\n",
    "- ``Print(3**4)``   exponential(**)\n",
    "- ``Print(3//4)``    floor division operator(//)<br></br>\n",
    "\n",
    "3. Write strings on the python interactive shell. The strings are the following:\n",
    "* ``Print(\"Ahmad Dahiru Namaru\")``      Your name\n",
    "* ``Print(\"Namaru\")``                   Your family name\n",
    "* ``Print(\"Nigeria\")``                  Your country\n",
    "* ``Print(\"I am enjoying 30 days of python\")``  <br></br>\n",
    "\n",
    "4. Check the data types of the following data:\n",
    "- Print(type(10))  `Int`\n",
    "- Print(type(9.8))  `Float`\n",
    "- Print(type(3.14))`Float`\n",
    "- Print(type(4 - 4j))`Complex`\n",
    "- Print(type(['Asabeneh', 'Python', 'Finland']))`List`\n",
    "- Print(type(\"Ahmad Dahiru Namru\"))`str`\n",
    "- Print(type(\"Namaru\"))`str`\n",
    "- Print(type(\"Nigeria\"))`str`"
   ]
  },
  {
   "cell_type": "markdown",
   "metadata": {},
   "source": [
    "# Exercise Level 2"
   ]
  },
  {
   "cell_type": "markdown",
   "metadata": {},
   "source": [
    "1. Check the python version you are using"
   ]
  },
  {
   "cell_type": "code",
   "execution_count": null,
   "metadata": {},
   "outputs": [],
   "source": [
    "python --version"
   ]
  },
  {
   "cell_type": "markdown",
   "metadata": {},
   "source": [
    "2. Open the python interactive shell and do the following operations. The operands are 3 and 4.\n",
    "* addition(+)"
   ]
  },
  {
   "cell_type": "code",
   "execution_count": null,
   "metadata": {},
   "outputs": [],
   "source": [
    "print(3+4)"
   ]
  },
  {
   "cell_type": "markdown",
   "metadata": {},
   "source": [
    "* subtraction(-)\n"
   ]
  },
  {
   "cell_type": "code",
   "execution_count": null,
   "metadata": {},
   "outputs": [],
   "source": [
    "print(3-4)"
   ]
  },
  {
   "cell_type": "markdown",
   "metadata": {},
   "source": [
    "* multiplication(*)"
   ]
  },
  {
   "cell_type": "code",
   "execution_count": null,
   "metadata": {},
   "outputs": [],
   "source": [
    "print(3*4)"
   ]
  },
  {
   "cell_type": "markdown",
   "metadata": {},
   "source": [
    "* modulus(%)"
   ]
  },
  {
   "cell_type": "code",
   "execution_count": null,
   "metadata": {},
   "outputs": [],
   "source": [
    "print(3%4)"
   ]
  },
  {
   "cell_type": "markdown",
   "metadata": {},
   "source": [
    "* division(/)"
   ]
  },
  {
   "cell_type": "code",
   "execution_count": null,
   "metadata": {},
   "outputs": [],
   "source": [
    "print (3/4)"
   ]
  },
  {
   "cell_type": "markdown",
   "metadata": {},
   "source": [
    "* exponential(**)"
   ]
  },
  {
   "cell_type": "code",
   "execution_count": null,
   "metadata": {},
   "outputs": [],
   "source": [
    "print(3**4)"
   ]
  },
  {
   "cell_type": "markdown",
   "metadata": {},
   "source": [
    "* floor division operator(//)"
   ]
  },
  {
   "cell_type": "code",
   "execution_count": null,
   "metadata": {},
   "outputs": [],
   "source": [
    "print (3//4)"
   ]
  },
  {
   "cell_type": "markdown",
   "metadata": {},
   "source": [
    "3. Write strings on the python interactive shell. The strings are the following:\n",
    "* Your name\n",
    "* Your family name\n",
    "* Your country\n",
    "* I am enjoying 30 days of python"
   ]
  },
  {
   "cell_type": "code",
   "execution_count": null,
   "metadata": {},
   "outputs": [],
   "source": [
    "name = \"Ahmad Dahiru Namaru\"\n",
    "family_name = \"Namaru\"\n",
    "country = \"Nigeria\"\n",
    "print(\"My Name is: \", name)\n",
    "print(\"My Family Name is: \", family_name)\n",
    "print(\"My Country is: \", country)\n",
    "print(\"I am enjoying 30 days of python\")"
   ]
  },
  {
   "cell_type": "markdown",
   "metadata": {},
   "source": [
    "4. Check the data types of the following data:\n",
    "- 10\n",
    "- 9.8\n",
    "- 3.14\n",
    "- 4 - 4j\n",
    "- ['Asabeneh', 'Python', 'Finland']\n",
    "- Your name\n",
    "- Your family name\n",
    "- Your country"
   ]
  },
  {
   "cell_type": "code",
   "execution_count": null,
   "metadata": {},
   "outputs": [],
   "source": [
    "# Checking Data Types\n",
    "print(type(10))\n",
    "print(type(9.8))\n",
    "print(type(3.14))\n",
    "print(type(4 - 4j))\n",
    "print(type(['Asabeneh', 'Python', 'Finland']))\n",
    "print(type(name))\n",
    "print(type(family_name))\n",
    "print(type(country))"
   ]
  }
 ],
 "metadata": {
  "kernelspec": {
   "display_name": "base",
   "language": "python",
   "name": "python3"
  },
  "language_info": {
   "codemirror_mode": {
    "name": "ipython",
    "version": 3
   },
   "file_extension": ".py",
   "mimetype": "text/x-python",
   "name": "python",
   "nbconvert_exporter": "python",
   "pygments_lexer": "ipython3",
   "version": "3.12.7"
  }
 },
 "nbformat": 4,
 "nbformat_minor": 2
}
