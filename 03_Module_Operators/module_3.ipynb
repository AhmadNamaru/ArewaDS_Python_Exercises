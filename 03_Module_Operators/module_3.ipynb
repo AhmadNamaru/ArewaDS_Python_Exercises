{
 "cells": [
  {
   "cell_type": "markdown",
   "metadata": {},
   "source": [
    "# Module 3 Excersises\n",
    "\n",
    "1. Declare your age as integer variable\n",
    "2. Declare your height as a float variable\n",
    "3. Declare a variable that store a complex number"
   ]
  },
  {
   "cell_type": "code",
   "execution_count": null,
   "metadata": {},
   "outputs": [],
   "source": [
    "age = 27                # type int\n",
    "height = 1.75           # type float\n",
    "complex_num = 4 + 3j    # type float"
   ]
  },
  {
   "cell_type": "markdown",
   "metadata": {},
   "source": [
    "4. Write a script that prompts the user to enter base and height of the triangle and calculate an area of this triangle (area = 0.5 x b x h)."
   ]
  },
  {
   "cell_type": "code",
   "execution_count": null,
   "metadata": {},
   "outputs": [],
   "source": [
    "base = int(input('Enter the Base: '))\n",
    "height = int(input('Enter the Height: '))\n",
    "\n",
    "area_of_triangle = (0.5*base*height)\n",
    "\n",
    "print('The Area of the Triangle is:','\\n',area_of_triangle)"
   ]
  },
  {
   "cell_type": "markdown",
   "metadata": {},
   "source": [
    "5. Write a script that prompts the user to enter side a, side b, and side c of the triangle. Calculate the perimeter of the triangle (perimeter = a + b + c)."
   ]
  },
  {
   "cell_type": "code",
   "execution_count": null,
   "metadata": {},
   "outputs": [],
   "source": [
    "a=int(input('Enter Side A:'))\n",
    "b=int(input('Enter Side B:'))\n",
    "c=int(input('Enter Side C:'))\n",
    "\n",
    "perimeter_of_triangle = a+b+c\n",
    "\n",
    "print('The Perimeter of the Triangle is: ', perimeter_of_triangle)\n"
   ]
  },
  {
   "cell_type": "markdown",
   "metadata": {},
   "source": [
    "6. Get length and width of a rectangle using prompt. Calculate its area (area = length x width) and perimeter (perimeter = 2 x (length + width))"
   ]
  },
  {
   "cell_type": "code",
   "execution_count": null,
   "metadata": {},
   "outputs": [],
   "source": [
    "length=int(input('Enter the Length:'))\n",
    "width=int(input('Enter the Width:'))\n",
    "\n",
    "area_of_rectangle = length*width\n",
    "perimeter_of_rectangle = 2*(length+width)\n",
    "\n",
    "print('The Area of the Rectangle is: ', area_of_rectangle)\n",
    "print('The Perimeter of the Rectangle is: ', perimeter_of_rectangle)"
   ]
  },
  {
   "cell_type": "markdown",
   "metadata": {},
   "source": [
    "7. Get radius of a circle using prompt. Calculate the area (area = pi x r x r) and circumference (c = 2 x pi x r) where pi = 3.14."
   ]
  },
  {
   "cell_type": "code",
   "execution_count": null,
   "metadata": {},
   "outputs": [],
   "source": [
    "radius = int(input('Enter the Radius:'))\n",
    "pi = 3.14\n",
    "area_of_circle = pi*radius**2\n",
    "circumference_of_circle = 2*pi*radius\n",
    "\n",
    "print('The Area of the Circle is: ', area_of_circle, 'meters')\n",
    "print('The Circumference of the Circle is: ', circumference_of_circle)"
   ]
  },
  {
   "cell_type": "markdown",
   "metadata": {},
   "source": [
    "8. Calculate the slope, x-intercept and y-intercept of y = 2x -2"
   ]
  },
  {
   "cell_type": "code",
   "execution_count": null,
   "metadata": {},
   "outputs": [],
   "source": [
    "slope = 2\n",
    "y_intercept = -2\n",
    "x_intercept = - y_intercept/slope\n",
    "\n",
    "print(f'slope (m): {slope}')\n",
    "print(f'Y-intercept (c): {y_intercept}')\n",
    "print(f'X-intercept: {x_intercept}')"
   ]
  },
  {
   "cell_type": "markdown",
   "metadata": {},
   "source": [
    "9. Slope is (m = y2-y1/x2-x1). Find the slope and Euclidean distance between point (2, 2) and point (6,10)"
   ]
  },
  {
   "cell_type": "code",
   "execution_count": null,
   "metadata": {},
   "outputs": [],
   "source": [
    "import math\n",
    "\n",
    "x1,x2 = 2,6\n",
    "y1,y2 = 2,10\n",
    "\n",
    "slope1 = (y2-y1)/(x2-x1)\n",
    "e_distance = math.sqrt((x2-x1)**2 + (y2-y1)**2)\n",
    "\n",
    "print(f'Slope: {slope1}')\n",
    "print(f'Euclidean Distance: {e_distance}')"
   ]
  },
  {
   "cell_type": "markdown",
   "metadata": {},
   "source": [
    "10. Compare the slopes in tasks 8 and 9."
   ]
  },
  {
   "cell_type": "code",
   "execution_count": null,
   "metadata": {},
   "outputs": [],
   "source": [
    "print(slope==slope1)"
   ]
  },
  {
   "cell_type": "markdown",
   "metadata": {},
   "source": [
    "11. Calculate the value of y (y = x^2 + 6x + 9). Try to use different x values and figure out at what x value y is going to be 0."
   ]
  },
  {
   "cell_type": "code",
   "execution_count": null,
   "metadata": {},
   "outputs": [],
   "source": [
    "x = -3\n",
    "y = (x**2 + 6*x + 9)\n",
    "\n",
    "print(f'The Value of y is:', y)\n",
    "print(f'Y is zero at {x} value of x.')"
   ]
  },
  {
   "cell_type": "markdown",
   "metadata": {},
   "source": [
    "12. Find the length of 'python' and 'dragon' and make a falsy comparison statement."
   ]
  },
  {
   "cell_type": "code",
   "execution_count": null,
   "metadata": {},
   "outputs": [],
   "source": [
    "p = 'python'\n",
    "d = 'dragon'\n",
    "print(f'The Length of Python is: ', len(p))\n",
    "print(f'The Length of dragon is: ', len(d))\n",
    "print(f'Is the Length of {p} not equal to the length of {d}?:', len(p) != len((p)))"
   ]
  },
  {
   "cell_type": "markdown",
   "metadata": {},
   "source": [
    "13. Use and operator to check if 'on' is found in both 'python' and 'dragon'"
   ]
  },
  {
   "cell_type": "code",
   "execution_count": null,
   "metadata": {},
   "outputs": [],
   "source": [
    "print('Is \"on\" in both python and dragon:',('on' in 'python') and ('on' in 'dragon'))"
   ]
  },
  {
   "cell_type": "markdown",
   "metadata": {},
   "source": [
    "14. I hope this course is not full of jargon. Use in operator to check if jargon is in the sentence."
   ]
  },
  {
   "cell_type": "code",
   "execution_count": null,
   "metadata": {},
   "outputs": [],
   "source": [
    "print('Is jargon in the Sentence:', 'jargon' in 'I hope this course is not full of jargon')"
   ]
  },
  {
   "cell_type": "markdown",
   "metadata": {},
   "source": [
    "15. There is no 'on' in both dragon and python"
   ]
  },
  {
   "cell_type": "code",
   "execution_count": null,
   "metadata": {},
   "outputs": [],
   "source": [
    "print('Is on not in the Word:', 'on' not in 'python')"
   ]
  },
  {
   "cell_type": "markdown",
   "metadata": {},
   "source": [
    "16. Find the length of the text python and convert the value to float and convert it to string"
   ]
  },
  {
   "cell_type": "code",
   "execution_count": null,
   "metadata": {},
   "outputs": [],
   "source": [
    "text  = 'python'\n",
    "print(len(text))                        # Finding the Lenth of the word\n",
    "\n",
    "convert = float(text)\n",
    "print(float(text))"
   ]
  },
  {
   "cell_type": "markdown",
   "metadata": {},
   "source": [
    "17. Even numbers are divisible by 2 and the remainder is zero. How do you check if a number is even or not using python?"
   ]
  },
  {
   "cell_type": "code",
   "execution_count": null,
   "metadata": {},
   "outputs": [],
   "source": [
    "number = int(input(\"Enter Any Number:\"))\n",
    "\n",
    "if\n",
    "    number % 2 == 0,\n",
    "    print('The Number is Even')\n",
    "\n",
    "else:\n",
    "    print('The Number is Not Even')\n"
   ]
  },
  {
   "cell_type": "markdown",
   "metadata": {},
   "source": [
    "18. Check if the floor division of 7 by 3 is equal to the int converted value of 2.7."
   ]
  },
  {
   "cell_type": "code",
   "execution_count": null,
   "metadata": {},
   "outputs": [],
   "source": [
    "print('Is 7//3 equal to 2.7: ', 7//3 == 2.7)"
   ]
  },
  {
   "cell_type": "markdown",
   "metadata": {},
   "source": [
    "19. Check if type of '10' is equal to type of 10"
   ]
  },
  {
   "cell_type": "code",
   "execution_count": null,
   "metadata": {},
   "outputs": [],
   "source": [
    "print(type('10')==10)"
   ]
  },
  {
   "cell_type": "markdown",
   "metadata": {},
   "source": [
    "20. Check if int('9.8') is equal to 10"
   ]
  },
  {
   "cell_type": "code",
   "execution_count": null,
   "metadata": {},
   "outputs": [],
   "source": [
    "converted = int('9.8')\n",
    "\n",
    "print((type(converted)) == 10)"
   ]
  },
  {
   "cell_type": "markdown",
   "metadata": {},
   "source": [
    "21. Writ a script that prompts the user to enter hours and rate per hour. Calculate pay of the person?"
   ]
  },
  {
   "cell_type": "code",
   "execution_count": null,
   "metadata": {},
   "outputs": [],
   "source": [
    "hours = int(input('Enter Hours: '))\n",
    "rate_per_hour = int(input('Enter Rate per Hour: '))\n",
    "\n",
    "employee_pay = hours * rate_per_hour\n",
    "\n",
    "print('The Total Pay is: ', employee_pay)"
   ]
  },
  {
   "cell_type": "markdown",
   "metadata": {},
   "source": [
    "22. Write a script that prompts the user to enter number of years. Calculate the number of seconds a person can live. Assume a person can live hundred years"
   ]
  },
  {
   "cell_type": "code",
   "execution_count": null,
   "metadata": {},
   "outputs": [],
   "source": [
    "years = int(input('Enter the Number of Years: '))\n",
    "\n",
    "seconds = years*12*30*24*60*60\n",
    "\n",
    "print(\"You Have Lived for: \", seconds, 'Seconds')"
   ]
  },
  {
   "cell_type": "markdown",
   "metadata": {},
   "source": [
    "23. Write a Python script that displays the following table\n",
    "    \n",
    "1 1 1 1 1\n",
    "\n",
    "2 1 2 4 8\n",
    "\n",
    "3 1 3 9 27\n",
    "\n",
    "4 1 4 16 64\n",
    "\n",
    "5 1 5 25 125"
   ]
  },
  {
   "cell_type": "code",
   "execution_count": null,
   "metadata": {},
   "outputs": [],
   "source": [
    "display_table = ['1 1 1 1 1', '2 1 2 4 8','3 1 3 9 27','4 1 4 16 64', '5 1 5 25 125']\n",
    "\n",
    "print(display_table)\n",
    "print(1,'\\t',1,'\\t',1,'\\t',1,'\\t',1)\n",
    "print(2,'\\t',1,'\\t',2,'\\t',4,'\\t',8)\n",
    "print(3,'\\t',1,'\\t',3,'\\t',9,'\\t',27)\n",
    "print(4,'\\t',1,'\\t',4,'\\t',16,'\\t',64)\n",
    "print(5,'\\t',1,'\\t',5,'\\t',25,'\\t',125)"
   ]
  }
 ],
 "metadata": {
  "kernelspec": {
   "display_name": "base",
   "language": "python",
   "name": "python3"
  },
  "language_info": {
   "codemirror_mode": {
    "name": "ipython",
    "version": 3
   },
   "file_extension": ".py",
   "mimetype": "text/x-python",
   "name": "python",
   "nbconvert_exporter": "python",
   "pygments_lexer": "ipython3",
   "version": "3.12.7"
  }
 },
 "nbformat": 4,
 "nbformat_minor": 2
}
