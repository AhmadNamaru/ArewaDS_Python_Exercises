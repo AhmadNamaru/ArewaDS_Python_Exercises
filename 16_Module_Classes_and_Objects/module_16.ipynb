{
 "cells": [
  {
   "cell_type": "markdown",
   "metadata": {},
   "source": [
    "# Classes Exercises\n",
    "#### Exercises: Level 1\n",
    "1. Python has the module called statistics and we can use this module to do all the statistical calculations. However, to learn how to make function and reuse function let us try to develop a program, which calculates the measure of central tendency of a sample (mean, median, mode) and measure of variability (range, variance, standard deviation). In addition to those measures, find the min, max, count, percentile, and frequency distribution of the sample. You can create a class called Statistics and create all the functions that do statistical calculations as methods for the Statistics class."
   ]
  },
  {
   "cell_type": "code",
   "execution_count": null,
   "metadata": {},
   "outputs": [],
   "source": [
    "import statistics\n",
    "\n",
    "class Statistics:\n",
    "    def __init__(self, data):\n",
    "        self.data = data\n",
    "\n",
    "    def count(self):\n",
    "        return len(self.data)\n",
    "\n",
    "    def sum(self):\n",
    "        return sum(self.data)\n",
    "\n",
    "    def min(self):\n",
    "        return min(self.data)\n",
    "\n",
    "    def max(self):\n",
    "        return max(self.data)\n",
    "\n",
    "    def range(self):\n",
    "        return self.max() - self.min()\n",
    "\n",
    "    def mean(self):\n",
    "        return statistics.mean(self.data)\n",
    "\n",
    "    def median(self):\n",
    "        return statistics.median(self.data)\n",
    "\n",
    "    def mode(self):\n",
    "        mode_value = statistics.mode(self.data)\n",
    "        return {'mode': mode_value, 'count': self.data.count(mode_value)}\n",
    "\n",
    "    def std(self):\n",
    "        return statistics.stdev(self.data)\n",
    "\n",
    "    def var(self):\n",
    "        return statistics.variance(self.data)\n",
    "\n",
    "    def freq_dist(self):\n",
    "        freq_dict = {}\n",
    "        for item in self.data:\n",
    "            freq_dict[item] = freq_dict.get(item, 0) + 1\n",
    "        return freq_dict\n",
    "\n",
    "ages = [31, 26, 34, 37, 27, 26, 32, 32, 26, 27, 27, 24, 32, 33, 27, 25, 26, 38, 37, 31, 34, 24, 33, 29, 26]\n",
    "data = Statistics(ages)\n",
    "\n",
    "\n",
    "print('Count:', data.count())\n",
    "print('Sum: ', data.sum())\n",
    "print('Min: ', data.min())\n",
    "print('Max: ', data.max())\n",
    "print('Range: ', data.range())\n",
    "print('Mean: ', data.mean())\n",
    "print('Median: ', data.median())\n",
    "print('Mode: ', data.mode())\n",
    "print('Standard Deviation: ', data.std())\n",
    "print('Variance: ', data.var())\n",
    "print('Frequency Distribution: ', data.freq_dist())"
   ]
  },
  {
   "cell_type": "markdown",
   "metadata": {},
   "source": [
    "#### Exercises: Level 2\n",
    "1. Create a class called PersonAccount. It has firstname, lastname, incomes, expenses properties and it has total_income, total_expense, account_info, add_income, add_expense and account_balance methods. Incomes is a set of incomes and its description. The same goes for expenses."
   ]
  },
  {
   "cell_type": "code",
   "execution_count": null,
   "metadata": {},
   "outputs": [],
   "source": [
    "class PersonAccount:\n",
    "    def __init__(self, firstname, lastname):\n",
    "        self.firstname = firstname\n",
    "        self.lastname = lastname\n",
    "        self.incomes = {}\n",
    "        self.expenses = {}\n",
    "\n",
    "    def total_income(self):\n",
    "        return sum(self.incomes.values())\n",
    "\n",
    "    def total_expense(self):\n",
    "        return sum(self.expenses.values())\n",
    "\n",
    "    def account_info(self):\n",
    "        return f\"Account holder: {self.firstname} {self.lastname}\\nTotal Income: {self.total_income()}\\nTotal Expense: {self.total_expense()}\"\n",
    "\n",
    "    def add_income(self, description, amount):\n",
    "        self.incomes[description] = self.incomes.get(description, 0) + amount\n",
    "\n",
    "    def add_expense(self, description, amount):\n",
    "        self.expenses[description] = self.expenses.get(description, 0) + amount\n",
    "\n",
    "    def account_balance(self):\n",
    "        return self.total_income() - self.total_expense()\n",
    "\n",
    "person = PersonAccount('Ahmad', 'Namaru')\n",
    "person.add_income('Salary', 5000000)\n",
    "person.add_income('Freelance', 150000)\n",
    "person.add_expense('Rent', 120000)\n",
    "person.add_expense('Groceries', 70000)\n",
    "\n",
    "print(person.account_info())\n",
    "print('Account Balance:', person.account_balance())"
   ]
  }
 ],
 "metadata": {
  "kernelspec": {
   "display_name": "base",
   "language": "python",
   "name": "python3"
  },
  "language_info": {
   "codemirror_mode": {
    "name": "ipython",
    "version": 3
   },
   "file_extension": ".py",
   "mimetype": "text/x-python",
   "name": "python",
   "nbconvert_exporter": "python",
   "pygments_lexer": "ipython3",
   "version": "3.12.7"
  }
 },
 "nbformat": 4,
 "nbformat_minor": 2
}
