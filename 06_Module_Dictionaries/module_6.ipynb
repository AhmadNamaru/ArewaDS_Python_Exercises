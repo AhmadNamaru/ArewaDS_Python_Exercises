{
 "cells": [
  {
   "cell_type": "markdown",
   "metadata": {},
   "source": [
    "# Module 6 Exercies\n",
    "## Dictionary Exercises\n",
    "#### Exercises: Level 1\n"
   ]
  },
  {
   "cell_type": "markdown",
   "metadata": {},
   "source": [
    "1. Create an empty dictionary called dog"
   ]
  },
  {
   "cell_type": "code",
   "execution_count": 1,
   "metadata": {},
   "outputs": [],
   "source": [
    "dog = dict()            # Using dict() method\n",
    "\n",
    "dog  = {}               # Using curly braces"
   ]
  },
  {
   "cell_type": "markdown",
   "metadata": {},
   "source": [
    "2. Add name, color, breed, legs, age to the dog dictionary"
   ]
  },
  {
   "cell_type": "code",
   "execution_count": 2,
   "metadata": {},
   "outputs": [
    {
     "name": "stdout",
     "output_type": "stream",
     "text": [
      "{'name': 'Bob', 'color': 'Grey', 'breed': 'german', 'legs': 4, 'age': 12}\n"
     ]
    }
   ],
   "source": [
    "dog = {\n",
    "    'name':'Bob',\n",
    "    'color':'Grey',\n",
    "    'breed':'german',\n",
    "    'legs':4,\n",
    "    'age':12\n",
    "    }\n",
    "print(dog)"
   ]
  },
  {
   "cell_type": "markdown",
   "metadata": {},
   "source": [
    "3. Create a student dictionary and add first_name, last_name, gender, age, marital status, skills, country, city and address as keys for the dictionary"
   ]
  },
  {
   "cell_type": "code",
   "execution_count": 3,
   "metadata": {},
   "outputs": [
    {
     "name": "stdout",
     "output_type": "stream",
     "text": [
      "{'first_name': 'Ahmad', 'last_name': 'Namaru', 'gender': 'male', 'age': 27, 'marital_status': 'Single', 'is_married': False, 'skills': ['Python', 'MS_Excell', 'Java', 'HTML'], 'country': 'Nigeria', 'city': 'Maru', 'address': 'Makarantar Boko'}\n"
     ]
    }
   ],
   "source": [
    "student = {\n",
    "    'first_name':'Ahmad',\n",
    "    'last_name':'Namaru',\n",
    "    'gender':'male',\n",
    "    'age':27,\n",
    "    'marital_status':'Single',\n",
    "    'is_married':False,\n",
    "    'skills':['Python','MS_Excell','Java','HTML'],\n",
    "    'country':'Nigeria',\n",
    "    'city':'Maru',\n",
    "    'address':'Makarantar Boko'\n",
    "}\n",
    "print(student)"
   ]
  },
  {
   "cell_type": "markdown",
   "metadata": {},
   "source": [
    "4. Get the length of the student dictionary"
   ]
  },
  {
   "cell_type": "code",
   "execution_count": 4,
   "metadata": {},
   "outputs": [
    {
     "name": "stdout",
     "output_type": "stream",
     "text": [
      "The length of the Student Dictionary is:  10\n"
     ]
    }
   ],
   "source": [
    "print('The length of the Student Dictionary is: ',len(student))"
   ]
  },
  {
   "cell_type": "markdown",
   "metadata": {},
   "source": [
    "5. Get the value of skills and check the data type, it should be a list"
   ]
  },
  {
   "cell_type": "code",
   "execution_count": 9,
   "metadata": {},
   "outputs": [
    {
     "name": "stdout",
     "output_type": "stream",
     "text": [
      "['Python', 'MS_Excell', 'Java', 'HTML']\n",
      "<class 'list'>\n"
     ]
    }
   ],
   "source": [
    "values = student.values()\n",
    "#print(values)\n",
    "print(student['skills'])\n",
    "print(type(student['skills']))"
   ]
  },
  {
   "cell_type": "markdown",
   "metadata": {},
   "source": [
    "6. Modify the skills values by adding one or two skills"
   ]
  },
  {
   "cell_type": "code",
   "execution_count": 10,
   "metadata": {},
   "outputs": [
    {
     "name": "stdout",
     "output_type": "stream",
     "text": [
      "['Python', 'MS_Excell', 'Java', 'HTML', 'PHP', 'Corel Draw']\n"
     ]
    }
   ],
   "source": [
    "student['skills'].append('PHP')\n",
    "student['skills'].append('Corel Draw')\n",
    "print(student['skills'])"
   ]
  },
  {
   "cell_type": "markdown",
   "metadata": {},
   "source": [
    "7. Get the dictionary keys as a list"
   ]
  },
  {
   "cell_type": "code",
   "execution_count": 11,
   "metadata": {},
   "outputs": [
    {
     "name": "stdout",
     "output_type": "stream",
     "text": [
      "dict_keys(['first_name', 'last_name', 'gender', 'age', 'marital_status', 'is_married', 'skills', 'country', 'city', 'address'])\n"
     ]
    }
   ],
   "source": [
    "keys = student.keys()\n",
    "print(keys)"
   ]
  },
  {
   "cell_type": "markdown",
   "metadata": {},
   "source": [
    "8. Get the dictionary values as a list"
   ]
  },
  {
   "cell_type": "code",
   "execution_count": 12,
   "metadata": {},
   "outputs": [
    {
     "name": "stdout",
     "output_type": "stream",
     "text": [
      "dict_values(['Ahmad', 'Namaru', 'male', 27, 'Single', False, ['Python', 'MS_Excell', 'Java', 'HTML', 'PHP', 'Corel Draw'], 'Nigeria', 'Maru', 'Makarantar Boko'])\n"
     ]
    }
   ],
   "source": [
    "values1 = student.values()\n",
    "print(values1)"
   ]
  },
  {
   "cell_type": "markdown",
   "metadata": {},
   "source": [
    "9. Change the dictionary to a list of tuples using items() method"
   ]
  },
  {
   "cell_type": "code",
   "execution_count": 13,
   "metadata": {},
   "outputs": [
    {
     "name": "stdout",
     "output_type": "stream",
     "text": [
      "dict_items([('first_name', 'Ahmad'), ('last_name', 'Namaru'), ('gender', 'male'), ('age', 27), ('marital_status', 'Single'), ('is_married', False), ('skills', ['Python', 'MS_Excell', 'Java', 'HTML', 'PHP', 'Corel Draw']), ('country', 'Nigeria'), ('city', 'Maru'), ('address', 'Makarantar Boko')])\n"
     ]
    }
   ],
   "source": [
    "print(student.items())"
   ]
  },
  {
   "cell_type": "markdown",
   "metadata": {},
   "source": [
    "10. Delete one of the items in the dictionary"
   ]
  },
  {
   "cell_type": "code",
   "execution_count": 14,
   "metadata": {},
   "outputs": [
    {
     "name": "stdout",
     "output_type": "stream",
     "text": [
      "{'first_name': 'Ahmad', 'last_name': 'Namaru', 'gender': 'male', 'age': 27, 'marital_status': 'Single', 'is_married': False, 'skills': ['Python', 'MS_Excell', 'Java', 'HTML', 'PHP', 'Corel Draw'], 'country': 'Nigeria', 'city': 'Maru'}\n"
     ]
    }
   ],
   "source": [
    "# Deleting the Last Item\n",
    "student.popitem()\n",
    "print(student)"
   ]
  },
  {
   "cell_type": "markdown",
   "metadata": {},
   "source": [
    "11. Delete one of the dictionaries"
   ]
  },
  {
   "cell_type": "code",
   "execution_count": 15,
   "metadata": {},
   "outputs": [
    {
     "name": "stdout",
     "output_type": "stream",
     "text": [
      "{'first_name': 'Ahmad', 'last_name': 'Namaru', 'gender': 'male', 'age': 27, 'is_married': False, 'skills': ['Python', 'MS_Excell', 'Java', 'HTML', 'PHP', 'Corel Draw'], 'country': 'Nigeria', 'city': 'Maru'}\n"
     ]
    }
   ],
   "source": [
    "del student['marital_status']\n",
    "print(student)"
   ]
  }
 ],
 "metadata": {
  "kernelspec": {
   "display_name": "base",
   "language": "python",
   "name": "python3"
  },
  "language_info": {
   "codemirror_mode": {
    "name": "ipython",
    "version": 3
   },
   "file_extension": ".py",
   "mimetype": "text/x-python",
   "name": "python",
   "nbconvert_exporter": "python",
   "pygments_lexer": "ipython3",
   "version": "3.12.7"
  }
 },
 "nbformat": 4,
 "nbformat_minor": 2
}
